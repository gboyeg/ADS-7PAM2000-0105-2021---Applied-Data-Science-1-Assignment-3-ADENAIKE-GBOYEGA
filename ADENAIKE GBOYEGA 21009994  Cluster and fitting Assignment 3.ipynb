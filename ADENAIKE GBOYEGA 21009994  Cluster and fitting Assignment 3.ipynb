{
 "cells": [
  {
   "cell_type": "markdown",
   "metadata": {
    "id": "UD3W9scMVUzg"
   },
   "source": [
    "## Data Exploration"
   ]
  },
  {
   "cell_type": "code",
   "execution_count": 1,
   "metadata": {
    "id": "NaIYDqkouu--"
   },
   "outputs": [],
   "source": [
    "# Import necessary libraries\n",
    "\n",
    "import pandas as pd\n",
    "import numpy as np\n",
    "import matplotlib.pyplot as plt\n",
    "#plt.rcdefaults()\n",
    "\n",
    "import warnings\n",
    "warnings.filterwarnings(\"ignore\")"
   ]
  },
  {
   "cell_type": "code",
   "execution_count": 2,
   "metadata": {
    "id": "aTrQGOMI5OhL"
   },
   "outputs": [],
   "source": [
    "# Function for dropping columns\n",
    "\n",
    "def drop_columns(dataset,column_names):\n",
    "    dataset = dataset.drop(column_names,axis = 1)\n",
    "    return dataset"
   ]
  },
  {
   "cell_type": "code",
   "execution_count": 3,
   "metadata": {
    "id": "0IXDqDX82StX"
   },
   "outputs": [],
   "source": [
    "# Function for droping rows\n",
    "\n",
    "def drop_rows(dataset,row_names):\n",
    "    dataset = dataset.drop(row_names,axis = 0)\n",
    "    return dataset"
   ]
  },
  {
   "cell_type": "code",
   "execution_count": 9,
   "metadata": {
    "colab": {
     "base_uri": "https://localhost:8080/",
     "height": 490
    },
    "id": "NrM9yZF4uu_L",
    "outputId": "608fe3af-6fd7-446e-afaf-5b66f916abfa"
   },
   "outputs": [
    {
     "data": {
      "text/html": [
       "<div>\n",
       "<style scoped>\n",
       "    .dataframe tbody tr th:only-of-type {\n",
       "        vertical-align: middle;\n",
       "    }\n",
       "\n",
       "    .dataframe tbody tr th {\n",
       "        vertical-align: top;\n",
       "    }\n",
       "\n",
       "    .dataframe thead th {\n",
       "        text-align: right;\n",
       "    }\n",
       "</style>\n",
       "<table border=\"1\" class=\"dataframe\">\n",
       "  <thead>\n",
       "    <tr style=\"text-align: right;\">\n",
       "      <th></th>\n",
       "      <th>Country Name</th>\n",
       "      <th>Country Code</th>\n",
       "      <th>Indicator Name</th>\n",
       "      <th>Indicator Code</th>\n",
       "      <th>1960</th>\n",
       "      <th>1961</th>\n",
       "      <th>1962</th>\n",
       "      <th>1963</th>\n",
       "      <th>1964</th>\n",
       "      <th>1965</th>\n",
       "      <th>...</th>\n",
       "      <th>2012</th>\n",
       "      <th>2013</th>\n",
       "      <th>2014</th>\n",
       "      <th>2015</th>\n",
       "      <th>2016</th>\n",
       "      <th>2017</th>\n",
       "      <th>2018</th>\n",
       "      <th>2019</th>\n",
       "      <th>2020</th>\n",
       "      <th>Unnamed: 65</th>\n",
       "    </tr>\n",
       "  </thead>\n",
       "  <tbody>\n",
       "    <tr>\n",
       "      <th>0</th>\n",
       "      <td>Aruba</td>\n",
       "      <td>ABW</td>\n",
       "      <td>Urban population (% of total population)</td>\n",
       "      <td>SP.URB.TOTL.IN.ZS</td>\n",
       "      <td>50.776</td>\n",
       "      <td>50.761000</td>\n",
       "      <td>50.746000</td>\n",
       "      <td>50.730000</td>\n",
       "      <td>50.715000</td>\n",
       "      <td>50.700000</td>\n",
       "      <td>...</td>\n",
       "      <td>42.957000</td>\n",
       "      <td>42.990000</td>\n",
       "      <td>43.041000</td>\n",
       "      <td>43.108000</td>\n",
       "      <td>43.192000</td>\n",
       "      <td>43.293000</td>\n",
       "      <td>43.411000</td>\n",
       "      <td>43.546000</td>\n",
       "      <td>43.697000</td>\n",
       "      <td>NaN</td>\n",
       "    </tr>\n",
       "    <tr>\n",
       "      <th>1</th>\n",
       "      <td>Aruba</td>\n",
       "      <td>ABW</td>\n",
       "      <td>Urban population</td>\n",
       "      <td>SP.URB.TOTL</td>\n",
       "      <td>27525.000</td>\n",
       "      <td>28139.000000</td>\n",
       "      <td>28537.000000</td>\n",
       "      <td>28763.000000</td>\n",
       "      <td>28922.000000</td>\n",
       "      <td>29080.000000</td>\n",
       "      <td>...</td>\n",
       "      <td>44059.000000</td>\n",
       "      <td>44351.000000</td>\n",
       "      <td>44666.000000</td>\n",
       "      <td>44978.000000</td>\n",
       "      <td>45293.000000</td>\n",
       "      <td>45614.000000</td>\n",
       "      <td>45949.000000</td>\n",
       "      <td>46294.000000</td>\n",
       "      <td>46654.000000</td>\n",
       "      <td>NaN</td>\n",
       "    </tr>\n",
       "    <tr>\n",
       "      <th>2</th>\n",
       "      <td>Aruba</td>\n",
       "      <td>ABW</td>\n",
       "      <td>Urban population growth (annual %)</td>\n",
       "      <td>SP.URB.GROW</td>\n",
       "      <td>NaN</td>\n",
       "      <td>2.206183</td>\n",
       "      <td>1.404498</td>\n",
       "      <td>0.788835</td>\n",
       "      <td>0.551271</td>\n",
       "      <td>0.544810</td>\n",
       "      <td>...</td>\n",
       "      <td>0.543931</td>\n",
       "      <td>0.660561</td>\n",
       "      <td>0.707733</td>\n",
       "      <td>0.696090</td>\n",
       "      <td>0.697901</td>\n",
       "      <td>0.706219</td>\n",
       "      <td>0.731740</td>\n",
       "      <td>0.748028</td>\n",
       "      <td>0.774631</td>\n",
       "      <td>NaN</td>\n",
       "    </tr>\n",
       "    <tr>\n",
       "      <th>3</th>\n",
       "      <td>Aruba</td>\n",
       "      <td>ABW</td>\n",
       "      <td>Population, total</td>\n",
       "      <td>SP.POP.TOTL</td>\n",
       "      <td>54208.000</td>\n",
       "      <td>55434.000000</td>\n",
       "      <td>56234.000000</td>\n",
       "      <td>56699.000000</td>\n",
       "      <td>57029.000000</td>\n",
       "      <td>57357.000000</td>\n",
       "      <td>...</td>\n",
       "      <td>102565.000000</td>\n",
       "      <td>103165.000000</td>\n",
       "      <td>103776.000000</td>\n",
       "      <td>104339.000000</td>\n",
       "      <td>104865.000000</td>\n",
       "      <td>105361.000000</td>\n",
       "      <td>105846.000000</td>\n",
       "      <td>106310.000000</td>\n",
       "      <td>106766.000000</td>\n",
       "      <td>NaN</td>\n",
       "    </tr>\n",
       "    <tr>\n",
       "      <th>4</th>\n",
       "      <td>Aruba</td>\n",
       "      <td>ABW</td>\n",
       "      <td>Population growth (annual %)</td>\n",
       "      <td>SP.POP.GROW</td>\n",
       "      <td>NaN</td>\n",
       "      <td>2.236462</td>\n",
       "      <td>1.432843</td>\n",
       "      <td>0.823502</td>\n",
       "      <td>0.580334</td>\n",
       "      <td>0.573498</td>\n",
       "      <td>...</td>\n",
       "      <td>0.503385</td>\n",
       "      <td>0.583290</td>\n",
       "      <td>0.590508</td>\n",
       "      <td>0.541048</td>\n",
       "      <td>0.502860</td>\n",
       "      <td>0.471874</td>\n",
       "      <td>0.459266</td>\n",
       "      <td>0.437415</td>\n",
       "      <td>0.428017</td>\n",
       "      <td>NaN</td>\n",
       "    </tr>\n",
       "  </tbody>\n",
       "</table>\n",
       "<p>5 rows × 66 columns</p>\n",
       "</div>"
      ],
      "text/plain": [
       "  Country Name Country Code                            Indicator Name  \\\n",
       "0        Aruba          ABW  Urban population (% of total population)   \n",
       "1        Aruba          ABW                          Urban population   \n",
       "2        Aruba          ABW        Urban population growth (annual %)   \n",
       "3        Aruba          ABW                         Population, total   \n",
       "4        Aruba          ABW              Population growth (annual %)   \n",
       "\n",
       "      Indicator Code       1960          1961          1962          1963  \\\n",
       "0  SP.URB.TOTL.IN.ZS     50.776     50.761000     50.746000     50.730000   \n",
       "1        SP.URB.TOTL  27525.000  28139.000000  28537.000000  28763.000000   \n",
       "2        SP.URB.GROW        NaN      2.206183      1.404498      0.788835   \n",
       "3        SP.POP.TOTL  54208.000  55434.000000  56234.000000  56699.000000   \n",
       "4        SP.POP.GROW        NaN      2.236462      1.432843      0.823502   \n",
       "\n",
       "           1964          1965  ...           2012           2013  \\\n",
       "0     50.715000     50.700000  ...      42.957000      42.990000   \n",
       "1  28922.000000  29080.000000  ...   44059.000000   44351.000000   \n",
       "2      0.551271      0.544810  ...       0.543931       0.660561   \n",
       "3  57029.000000  57357.000000  ...  102565.000000  103165.000000   \n",
       "4      0.580334      0.573498  ...       0.503385       0.583290   \n",
       "\n",
       "            2014           2015           2016           2017           2018  \\\n",
       "0      43.041000      43.108000      43.192000      43.293000      43.411000   \n",
       "1   44666.000000   44978.000000   45293.000000   45614.000000   45949.000000   \n",
       "2       0.707733       0.696090       0.697901       0.706219       0.731740   \n",
       "3  103776.000000  104339.000000  104865.000000  105361.000000  105846.000000   \n",
       "4       0.590508       0.541048       0.502860       0.471874       0.459266   \n",
       "\n",
       "            2019           2020  Unnamed: 65  \n",
       "0      43.546000      43.697000          NaN  \n",
       "1   46294.000000   46654.000000          NaN  \n",
       "2       0.748028       0.774631          NaN  \n",
       "3  106310.000000  106766.000000          NaN  \n",
       "4       0.437415       0.428017          NaN  \n",
       "\n",
       "[5 rows x 66 columns]"
      ]
     },
     "execution_count": 9,
     "metadata": {},
     "output_type": "execute_result"
    }
   ],
   "source": [
    "# Load in the data gotten from then world bank and display the first 5 rows of the data\n",
    "\n",
    "df_world_bank = pd.read_csv(\"C:\\dataset\\API_19_DS2_en_csv_v2_3931355.csv\", skiprows=4)\n",
    "df_countries = pd.read_csv(\"C:\\dataset\\All countries.csv\")\n",
    "df_world_bank.head()"
   ]
  },
  {
   "cell_type": "code",
   "execution_count": 10,
   "metadata": {
    "colab": {
     "base_uri": "https://localhost:8080/",
     "height": 392
    },
    "id": "QlMOdL1wVUzy",
    "outputId": "f07c6ce3-118f-40ef-f6cd-7e0b2f189780"
   },
   "outputs": [
    {
     "data": {
      "text/html": [
       "<div>\n",
       "<style scoped>\n",
       "    .dataframe tbody tr th:only-of-type {\n",
       "        vertical-align: middle;\n",
       "    }\n",
       "\n",
       "    .dataframe tbody tr th {\n",
       "        vertical-align: top;\n",
       "    }\n",
       "\n",
       "    .dataframe thead th {\n",
       "        text-align: right;\n",
       "    }\n",
       "</style>\n",
       "<table border=\"1\" class=\"dataframe\">\n",
       "  <thead>\n",
       "    <tr style=\"text-align: right;\">\n",
       "      <th></th>\n",
       "      <th>name</th>\n",
       "      <th>alpha-2</th>\n",
       "      <th>alpha-3</th>\n",
       "      <th>country-code</th>\n",
       "      <th>iso_3166-2</th>\n",
       "      <th>region</th>\n",
       "      <th>sub-region</th>\n",
       "      <th>intermediate-region</th>\n",
       "      <th>region-code</th>\n",
       "      <th>sub-region-code</th>\n",
       "      <th>intermediate-region-code</th>\n",
       "    </tr>\n",
       "  </thead>\n",
       "  <tbody>\n",
       "    <tr>\n",
       "      <th>0</th>\n",
       "      <td>Afghanistan</td>\n",
       "      <td>AF</td>\n",
       "      <td>AFG</td>\n",
       "      <td>4</td>\n",
       "      <td>ISO 3166-2:AF</td>\n",
       "      <td>Asia</td>\n",
       "      <td>Southern Asia</td>\n",
       "      <td>NaN</td>\n",
       "      <td>142.0</td>\n",
       "      <td>34.0</td>\n",
       "      <td>NaN</td>\n",
       "    </tr>\n",
       "    <tr>\n",
       "      <th>1</th>\n",
       "      <td>Åland Islands</td>\n",
       "      <td>AX</td>\n",
       "      <td>ALA</td>\n",
       "      <td>248</td>\n",
       "      <td>ISO 3166-2:AX</td>\n",
       "      <td>Europe</td>\n",
       "      <td>Northern Europe</td>\n",
       "      <td>NaN</td>\n",
       "      <td>150.0</td>\n",
       "      <td>154.0</td>\n",
       "      <td>NaN</td>\n",
       "    </tr>\n",
       "    <tr>\n",
       "      <th>2</th>\n",
       "      <td>Albania</td>\n",
       "      <td>AL</td>\n",
       "      <td>ALB</td>\n",
       "      <td>8</td>\n",
       "      <td>ISO 3166-2:AL</td>\n",
       "      <td>Europe</td>\n",
       "      <td>Southern Europe</td>\n",
       "      <td>NaN</td>\n",
       "      <td>150.0</td>\n",
       "      <td>39.0</td>\n",
       "      <td>NaN</td>\n",
       "    </tr>\n",
       "    <tr>\n",
       "      <th>3</th>\n",
       "      <td>Algeria</td>\n",
       "      <td>DZ</td>\n",
       "      <td>DZA</td>\n",
       "      <td>12</td>\n",
       "      <td>ISO 3166-2:DZ</td>\n",
       "      <td>Africa</td>\n",
       "      <td>Northern Africa</td>\n",
       "      <td>NaN</td>\n",
       "      <td>2.0</td>\n",
       "      <td>15.0</td>\n",
       "      <td>NaN</td>\n",
       "    </tr>\n",
       "    <tr>\n",
       "      <th>4</th>\n",
       "      <td>American Samoa</td>\n",
       "      <td>AS</td>\n",
       "      <td>ASM</td>\n",
       "      <td>16</td>\n",
       "      <td>ISO 3166-2:AS</td>\n",
       "      <td>Oceania</td>\n",
       "      <td>Polynesia</td>\n",
       "      <td>NaN</td>\n",
       "      <td>9.0</td>\n",
       "      <td>61.0</td>\n",
       "      <td>NaN</td>\n",
       "    </tr>\n",
       "  </tbody>\n",
       "</table>\n",
       "</div>"
      ],
      "text/plain": [
       "             name alpha-2 alpha-3  country-code     iso_3166-2   region  \\\n",
       "0     Afghanistan      AF     AFG             4  ISO 3166-2:AF     Asia   \n",
       "1   Åland Islands      AX     ALA           248  ISO 3166-2:AX   Europe   \n",
       "2         Albania      AL     ALB             8  ISO 3166-2:AL   Europe   \n",
       "3         Algeria      DZ     DZA            12  ISO 3166-2:DZ   Africa   \n",
       "4  American Samoa      AS     ASM            16  ISO 3166-2:AS  Oceania   \n",
       "\n",
       "        sub-region intermediate-region  region-code  sub-region-code  \\\n",
       "0    Southern Asia                 NaN        142.0             34.0   \n",
       "1  Northern Europe                 NaN        150.0            154.0   \n",
       "2  Southern Europe                 NaN        150.0             39.0   \n",
       "3  Northern Africa                 NaN          2.0             15.0   \n",
       "4        Polynesia                 NaN          9.0             61.0   \n",
       "\n",
       "   intermediate-region-code  \n",
       "0                       NaN  \n",
       "1                       NaN  \n",
       "2                       NaN  \n",
       "3                       NaN  \n",
       "4                       NaN  "
      ]
     },
     "execution_count": 10,
     "metadata": {},
     "output_type": "execute_result"
    }
   ],
   "source": [
    "# Check the first five records\n",
    "\n",
    "df_countries.head()"
   ]
  },
  {
   "cell_type": "code",
   "execution_count": 11,
   "metadata": {
    "colab": {
     "base_uri": "https://localhost:8080/",
     "height": 206
    },
    "id": "a9RafLoiVUz0",
    "outputId": "ca5248f5-4759-43cf-cbb7-b58481c1a21a"
   },
   "outputs": [
    {
     "data": {
      "text/html": [
       "<div>\n",
       "<style scoped>\n",
       "    .dataframe tbody tr th:only-of-type {\n",
       "        vertical-align: middle;\n",
       "    }\n",
       "\n",
       "    .dataframe tbody tr th {\n",
       "        vertical-align: top;\n",
       "    }\n",
       "\n",
       "    .dataframe thead th {\n",
       "        text-align: right;\n",
       "    }\n",
       "</style>\n",
       "<table border=\"1\" class=\"dataframe\">\n",
       "  <thead>\n",
       "    <tr style=\"text-align: right;\">\n",
       "      <th></th>\n",
       "      <th>Country Name</th>\n",
       "      <th>Country Code</th>\n",
       "    </tr>\n",
       "  </thead>\n",
       "  <tbody>\n",
       "    <tr>\n",
       "      <th>0</th>\n",
       "      <td>Afghanistan</td>\n",
       "      <td>AFG</td>\n",
       "    </tr>\n",
       "    <tr>\n",
       "      <th>1</th>\n",
       "      <td>Åland Islands</td>\n",
       "      <td>ALA</td>\n",
       "    </tr>\n",
       "    <tr>\n",
       "      <th>2</th>\n",
       "      <td>Albania</td>\n",
       "      <td>ALB</td>\n",
       "    </tr>\n",
       "    <tr>\n",
       "      <th>3</th>\n",
       "      <td>Algeria</td>\n",
       "      <td>DZA</td>\n",
       "    </tr>\n",
       "    <tr>\n",
       "      <th>4</th>\n",
       "      <td>American Samoa</td>\n",
       "      <td>ASM</td>\n",
       "    </tr>\n",
       "  </tbody>\n",
       "</table>\n",
       "</div>"
      ],
      "text/plain": [
       "     Country Name Country Code\n",
       "0     Afghanistan          AFG\n",
       "1   Åland Islands          ALA\n",
       "2         Albania          ALB\n",
       "3         Algeria          DZA\n",
       "4  American Samoa          ASM"
      ]
     },
     "execution_count": 11,
     "metadata": {},
     "output_type": "execute_result"
    }
   ],
   "source": [
    "# Rename columns\n",
    "\n",
    "df_countries.rename(columns={'name':'Country Name', 'alpha-3':'Country Code'}, inplace=True)\n",
    "df_countries_final = df_countries[['Country Name', 'Country Code']]\n",
    "df_countries_final.head()"
   ]
  },
  {
   "cell_type": "code",
   "execution_count": 12,
   "metadata": {
    "colab": {
     "base_uri": "https://localhost:8080/"
    },
    "id": "Sm6NyFghVUz3",
    "outputId": "86e583d5-ce4b-4a79-b18c-55f36e77a68e"
   },
   "outputs": [
    {
     "data": {
      "text/plain": [
       "(249, 2)"
      ]
     },
     "execution_count": 12,
     "metadata": {},
     "output_type": "execute_result"
    }
   ],
   "source": [
    "# Check the number of rows and columns in the dataframe\n",
    "\n",
    "df_countries_final.shape"
   ]
  },
  {
   "cell_type": "code",
   "execution_count": 13,
   "metadata": {
    "colab": {
     "base_uri": "https://localhost:8080/"
    },
    "id": "-c2r98cdULgC",
    "outputId": "c1e2b262-f10f-4de0-cc6c-cb4498592cbb"
   },
   "outputs": [
    {
     "data": {
      "text/plain": [
       "(20216, 66)"
      ]
     },
     "execution_count": 13,
     "metadata": {},
     "output_type": "execute_result"
    }
   ],
   "source": [
    "# Check the number of rows and columns in the dataframe\n",
    "\n",
    "df_world_bank.shape"
   ]
  },
  {
   "cell_type": "markdown",
   "metadata": {
    "id": "C5O8YlNnVUz8"
   },
   "source": [
    "We found that there are 20216 rows and 66 columns in the loaded dataframe."
   ]
  },
  {
   "cell_type": "code",
   "execution_count": 14,
   "metadata": {
    "colab": {
     "base_uri": "https://localhost:8080/",
     "height": 505
    },
    "id": "RcdFg_KvVUz8",
    "outputId": "924d1bf8-0b89-49f6-9f42-8002b1cb0c52"
   },
   "outputs": [
    {
     "data": {
      "text/html": [
       "<div>\n",
       "<style scoped>\n",
       "    .dataframe tbody tr th:only-of-type {\n",
       "        vertical-align: middle;\n",
       "    }\n",
       "\n",
       "    .dataframe tbody tr th {\n",
       "        vertical-align: top;\n",
       "    }\n",
       "\n",
       "    .dataframe thead th {\n",
       "        text-align: right;\n",
       "    }\n",
       "</style>\n",
       "<table border=\"1\" class=\"dataframe\">\n",
       "  <thead>\n",
       "    <tr style=\"text-align: right;\">\n",
       "      <th></th>\n",
       "      <th>count</th>\n",
       "      <th>mean</th>\n",
       "      <th>std</th>\n",
       "      <th>min</th>\n",
       "      <th>25%</th>\n",
       "      <th>50%</th>\n",
       "      <th>75%</th>\n",
       "      <th>max</th>\n",
       "    </tr>\n",
       "  </thead>\n",
       "  <tbody>\n",
       "    <tr>\n",
       "      <th>1960</th>\n",
       "      <td>3140.0</td>\n",
       "      <td>2.015940e+07</td>\n",
       "      <td>1.766754e+08</td>\n",
       "      <td>-3.667000</td>\n",
       "      <td>1.658243</td>\n",
       "      <td>42.140500</td>\n",
       "      <td>6640.735250</td>\n",
       "      <td>3.040000e+09</td>\n",
       "    </tr>\n",
       "    <tr>\n",
       "      <th>1961</th>\n",
       "      <td>4546.0</td>\n",
       "      <td>1.476890e+07</td>\n",
       "      <td>1.579775e+08</td>\n",
       "      <td>-3.667000</td>\n",
       "      <td>2.727489</td>\n",
       "      <td>30.368305</td>\n",
       "      <td>1764.864977</td>\n",
       "      <td>3.428000e+09</td>\n",
       "    </tr>\n",
       "    <tr>\n",
       "      <th>1962</th>\n",
       "      <td>4727.0</td>\n",
       "      <td>1.488896e+07</td>\n",
       "      <td>1.643346e+08</td>\n",
       "      <td>-3.667000</td>\n",
       "      <td>2.894394</td>\n",
       "      <td>35.428305</td>\n",
       "      <td>1786.300000</td>\n",
       "      <td>3.797000e+09</td>\n",
       "    </tr>\n",
       "    <tr>\n",
       "      <th>1963</th>\n",
       "      <td>4587.0</td>\n",
       "      <td>1.642074e+07</td>\n",
       "      <td>1.826950e+08</td>\n",
       "      <td>-370.367000</td>\n",
       "      <td>2.724582</td>\n",
       "      <td>30.895000</td>\n",
       "      <td>1831.447613</td>\n",
       "      <td>4.362000e+09</td>\n",
       "    </tr>\n",
       "    <tr>\n",
       "      <th>1964</th>\n",
       "      <td>4643.0</td>\n",
       "      <td>1.688664e+07</td>\n",
       "      <td>1.898123e+08</td>\n",
       "      <td>-3.667000</td>\n",
       "      <td>2.651414</td>\n",
       "      <td>31.158000</td>\n",
       "      <td>1824.767669</td>\n",
       "      <td>4.653000e+09</td>\n",
       "    </tr>\n",
       "    <tr>\n",
       "      <th>...</th>\n",
       "      <td>...</td>\n",
       "      <td>...</td>\n",
       "      <td>...</td>\n",
       "      <td>...</td>\n",
       "      <td>...</td>\n",
       "      <td>...</td>\n",
       "      <td>...</td>\n",
       "      <td>...</td>\n",
       "    </tr>\n",
       "    <tr>\n",
       "      <th>2017</th>\n",
       "      <td>8067.0</td>\n",
       "      <td>1.553889e+07</td>\n",
       "      <td>2.046260e+08</td>\n",
       "      <td>-28.307232</td>\n",
       "      <td>2.170596</td>\n",
       "      <td>22.925868</td>\n",
       "      <td>1279.250000</td>\n",
       "      <td>7.519183e+09</td>\n",
       "    </tr>\n",
       "    <tr>\n",
       "      <th>2018</th>\n",
       "      <td>7445.0</td>\n",
       "      <td>1.709443e+07</td>\n",
       "      <td>2.158258e+08</td>\n",
       "      <td>-1275.189986</td>\n",
       "      <td>2.066193</td>\n",
       "      <td>22.925044</td>\n",
       "      <td>1998.141844</td>\n",
       "      <td>7.602454e+09</td>\n",
       "    </tr>\n",
       "    <tr>\n",
       "      <th>2019</th>\n",
       "      <td>3718.0</td>\n",
       "      <td>3.435867e+07</td>\n",
       "      <td>3.084641e+08</td>\n",
       "      <td>-18.600160</td>\n",
       "      <td>2.763476</td>\n",
       "      <td>30.749500</td>\n",
       "      <td>100.000000</td>\n",
       "      <td>7.683372e+09</td>\n",
       "    </tr>\n",
       "    <tr>\n",
       "      <th>2020</th>\n",
       "      <td>2999.0</td>\n",
       "      <td>4.320922e+07</td>\n",
       "      <td>3.472421e+08</td>\n",
       "      <td>-34.208963</td>\n",
       "      <td>2.600000</td>\n",
       "      <td>23.004831</td>\n",
       "      <td>282.700000</td>\n",
       "      <td>7.761620e+09</td>\n",
       "    </tr>\n",
       "    <tr>\n",
       "      <th>Unnamed: 65</th>\n",
       "      <td>0.0</td>\n",
       "      <td>NaN</td>\n",
       "      <td>NaN</td>\n",
       "      <td>NaN</td>\n",
       "      <td>NaN</td>\n",
       "      <td>NaN</td>\n",
       "      <td>NaN</td>\n",
       "      <td>NaN</td>\n",
       "    </tr>\n",
       "  </tbody>\n",
       "</table>\n",
       "<p>62 rows × 8 columns</p>\n",
       "</div>"
      ],
      "text/plain": [
       "              count          mean           std          min       25%  \\\n",
       "1960         3140.0  2.015940e+07  1.766754e+08    -3.667000  1.658243   \n",
       "1961         4546.0  1.476890e+07  1.579775e+08    -3.667000  2.727489   \n",
       "1962         4727.0  1.488896e+07  1.643346e+08    -3.667000  2.894394   \n",
       "1963         4587.0  1.642074e+07  1.826950e+08  -370.367000  2.724582   \n",
       "1964         4643.0  1.688664e+07  1.898123e+08    -3.667000  2.651414   \n",
       "...             ...           ...           ...          ...       ...   \n",
       "2017         8067.0  1.553889e+07  2.046260e+08   -28.307232  2.170596   \n",
       "2018         7445.0  1.709443e+07  2.158258e+08 -1275.189986  2.066193   \n",
       "2019         3718.0  3.435867e+07  3.084641e+08   -18.600160  2.763476   \n",
       "2020         2999.0  4.320922e+07  3.472421e+08   -34.208963  2.600000   \n",
       "Unnamed: 65     0.0           NaN           NaN          NaN       NaN   \n",
       "\n",
       "                   50%          75%           max  \n",
       "1960         42.140500  6640.735250  3.040000e+09  \n",
       "1961         30.368305  1764.864977  3.428000e+09  \n",
       "1962         35.428305  1786.300000  3.797000e+09  \n",
       "1963         30.895000  1831.447613  4.362000e+09  \n",
       "1964         31.158000  1824.767669  4.653000e+09  \n",
       "...                ...          ...           ...  \n",
       "2017         22.925868  1279.250000  7.519183e+09  \n",
       "2018         22.925044  1998.141844  7.602454e+09  \n",
       "2019         30.749500   100.000000  7.683372e+09  \n",
       "2020         23.004831   282.700000  7.761620e+09  \n",
       "Unnamed: 65        NaN          NaN           NaN  \n",
       "\n",
       "[62 rows x 8 columns]"
      ]
     },
     "execution_count": 14,
     "metadata": {},
     "output_type": "execute_result"
    }
   ],
   "source": [
    "# Summary statistics presented in a transposed format\n",
    "\n",
    "df_world_bank.describe().T"
   ]
  },
  {
   "cell_type": "markdown",
   "metadata": {
    "id": "w_H02ZNAVUz-"
   },
   "source": [
    "Much insights cannot be drawn from the summary statistics table presented above as we do cannot identify the indicator whose summary corresponds with the output result above."
   ]
  },
  {
   "cell_type": "code",
   "execution_count": 15,
   "metadata": {
    "colab": {
     "base_uri": "https://localhost:8080/"
    },
    "id": "J5_hu7bAUpDG",
    "outputId": "ede52038-a873-4791-abae-976fb2da3969"
   },
   "outputs": [
    {
     "data": {
      "text/plain": [
       "Country Name          0\n",
       "Country Code          0\n",
       "Indicator Name        0\n",
       "Indicator Code        0\n",
       "1960              17076\n",
       "                  ...  \n",
       "2017              12149\n",
       "2018              12771\n",
       "2019              16498\n",
       "2020              17217\n",
       "Unnamed: 65       20216\n",
       "Length: 66, dtype: int64"
      ]
     },
     "execution_count": 15,
     "metadata": {},
     "output_type": "execute_result"
    }
   ],
   "source": [
    "# Check for missing observations\n",
    "\n",
    "df_world_bank.isnull().sum()"
   ]
  },
  {
   "cell_type": "code",
   "execution_count": 16,
   "metadata": {
    "colab": {
     "base_uri": "https://localhost:8080/"
    },
    "id": "4qMFv2hDUoyV",
    "outputId": "bbd5f5bc-bd4e-4944-b26c-ebb6800e05f5"
   },
   "outputs": [
    {
     "data": {
      "text/plain": [
       "Country Name        0.000000\n",
       "Country Code        0.000000\n",
       "Indicator Name      0.000000\n",
       "Indicator Code      0.000000\n",
       "1960               84.467748\n",
       "                     ...    \n",
       "2017               60.095964\n",
       "2018               63.172734\n",
       "2019               81.608627\n",
       "2020               85.165216\n",
       "Unnamed: 65       100.000000\n",
       "Length: 66, dtype: float64"
      ]
     },
     "execution_count": 16,
     "metadata": {},
     "output_type": "execute_result"
    }
   ],
   "source": [
    "# Check for the percentage of missing observations in each column\n",
    "\n",
    "percent_missing = df_world_bank.isnull().sum() * 100 / len(df_world_bank)\n",
    "percent_missing"
   ]
  },
  {
   "cell_type": "markdown",
   "metadata": {
    "id": "Xkv8bO94U61U"
   },
   "source": [
    "We observed that there are a lot of missing observations in the dataframe. Hence, we shall at a later time limit the years under study to contain only records from year 1990 to year 2010"
   ]
  },
  {
   "cell_type": "code",
   "execution_count": 84,
   "metadata": {
    "colab": {
     "base_uri": "https://localhost:8080/",
     "height": 421
    },
    "id": "pHfBftvX3MfG",
    "outputId": "be426ca4-fb76-4fe8-9adf-1397570af08e"
   },
   "outputs": [
    {
     "data": {
      "text/html": [
       "<div>\n",
       "<style scoped>\n",
       "    .dataframe tbody tr th:only-of-type {\n",
       "        vertical-align: middle;\n",
       "    }\n",
       "\n",
       "    .dataframe tbody tr th {\n",
       "        vertical-align: top;\n",
       "    }\n",
       "\n",
       "    .dataframe thead th {\n",
       "        text-align: right;\n",
       "    }\n",
       "</style>\n",
       "<table border=\"1\" class=\"dataframe\">\n",
       "  <thead>\n",
       "    <tr style=\"text-align: right;\">\n",
       "      <th></th>\n",
       "      <th>Country Name</th>\n",
       "      <th>Country Code</th>\n",
       "      <th>Indicator Name</th>\n",
       "      <th>Indicator Code</th>\n",
       "      <th>1960</th>\n",
       "      <th>1961</th>\n",
       "      <th>1962</th>\n",
       "      <th>1963</th>\n",
       "      <th>1964</th>\n",
       "      <th>1965</th>\n",
       "      <th>...</th>\n",
       "      <th>2012</th>\n",
       "      <th>2013</th>\n",
       "      <th>2014</th>\n",
       "      <th>2015</th>\n",
       "      <th>2016</th>\n",
       "      <th>2017</th>\n",
       "      <th>2018</th>\n",
       "      <th>2019</th>\n",
       "      <th>2020</th>\n",
       "      <th>Unnamed: 65</th>\n",
       "    </tr>\n",
       "  </thead>\n",
       "  <tbody>\n",
       "    <tr>\n",
       "      <th>0</th>\n",
       "      <td>Aruba</td>\n",
       "      <td>ABW</td>\n",
       "      <td>Urban population (% of total population)</td>\n",
       "      <td>SP.URB.TOTL.IN.ZS</td>\n",
       "      <td>50.776</td>\n",
       "      <td>50.761000</td>\n",
       "      <td>50.746000</td>\n",
       "      <td>50.730000</td>\n",
       "      <td>50.715000</td>\n",
       "      <td>50.700000</td>\n",
       "      <td>...</td>\n",
       "      <td>42.957000</td>\n",
       "      <td>42.990000</td>\n",
       "      <td>43.041000</td>\n",
       "      <td>43.108000</td>\n",
       "      <td>43.192000</td>\n",
       "      <td>43.293000</td>\n",
       "      <td>43.411000</td>\n",
       "      <td>43.546000</td>\n",
       "      <td>43.697000</td>\n",
       "      <td>NaN</td>\n",
       "    </tr>\n",
       "    <tr>\n",
       "      <th>1</th>\n",
       "      <td>Aruba</td>\n",
       "      <td>ABW</td>\n",
       "      <td>Urban population</td>\n",
       "      <td>SP.URB.TOTL</td>\n",
       "      <td>27525.000</td>\n",
       "      <td>28139.000000</td>\n",
       "      <td>28537.000000</td>\n",
       "      <td>28763.000000</td>\n",
       "      <td>28922.000000</td>\n",
       "      <td>29080.000000</td>\n",
       "      <td>...</td>\n",
       "      <td>44059.000000</td>\n",
       "      <td>44351.000000</td>\n",
       "      <td>44666.000000</td>\n",
       "      <td>44978.000000</td>\n",
       "      <td>45293.000000</td>\n",
       "      <td>45614.000000</td>\n",
       "      <td>45949.000000</td>\n",
       "      <td>46294.000000</td>\n",
       "      <td>46654.000000</td>\n",
       "      <td>NaN</td>\n",
       "    </tr>\n",
       "    <tr>\n",
       "      <th>2</th>\n",
       "      <td>Aruba</td>\n",
       "      <td>ABW</td>\n",
       "      <td>Urban population growth (annual %)</td>\n",
       "      <td>SP.URB.GROW</td>\n",
       "      <td>NaN</td>\n",
       "      <td>2.206183</td>\n",
       "      <td>1.404498</td>\n",
       "      <td>0.788835</td>\n",
       "      <td>0.551271</td>\n",
       "      <td>0.544810</td>\n",
       "      <td>...</td>\n",
       "      <td>0.543931</td>\n",
       "      <td>0.660561</td>\n",
       "      <td>0.707733</td>\n",
       "      <td>0.696090</td>\n",
       "      <td>0.697901</td>\n",
       "      <td>0.706219</td>\n",
       "      <td>0.731740</td>\n",
       "      <td>0.748028</td>\n",
       "      <td>0.774631</td>\n",
       "      <td>NaN</td>\n",
       "    </tr>\n",
       "    <tr>\n",
       "      <th>3</th>\n",
       "      <td>Aruba</td>\n",
       "      <td>ABW</td>\n",
       "      <td>Population, total</td>\n",
       "      <td>SP.POP.TOTL</td>\n",
       "      <td>54208.000</td>\n",
       "      <td>55434.000000</td>\n",
       "      <td>56234.000000</td>\n",
       "      <td>56699.000000</td>\n",
       "      <td>57029.000000</td>\n",
       "      <td>57357.000000</td>\n",
       "      <td>...</td>\n",
       "      <td>102565.000000</td>\n",
       "      <td>103165.000000</td>\n",
       "      <td>103776.000000</td>\n",
       "      <td>104339.000000</td>\n",
       "      <td>104865.000000</td>\n",
       "      <td>105361.000000</td>\n",
       "      <td>105846.000000</td>\n",
       "      <td>106310.000000</td>\n",
       "      <td>106766.000000</td>\n",
       "      <td>NaN</td>\n",
       "    </tr>\n",
       "    <tr>\n",
       "      <th>4</th>\n",
       "      <td>Aruba</td>\n",
       "      <td>ABW</td>\n",
       "      <td>Population growth (annual %)</td>\n",
       "      <td>SP.POP.GROW</td>\n",
       "      <td>NaN</td>\n",
       "      <td>2.236462</td>\n",
       "      <td>1.432843</td>\n",
       "      <td>0.823502</td>\n",
       "      <td>0.580334</td>\n",
       "      <td>0.573498</td>\n",
       "      <td>...</td>\n",
       "      <td>0.503385</td>\n",
       "      <td>0.583290</td>\n",
       "      <td>0.590508</td>\n",
       "      <td>0.541048</td>\n",
       "      <td>0.502860</td>\n",
       "      <td>0.471874</td>\n",
       "      <td>0.459266</td>\n",
       "      <td>0.437415</td>\n",
       "      <td>0.428017</td>\n",
       "      <td>NaN</td>\n",
       "    </tr>\n",
       "  </tbody>\n",
       "</table>\n",
       "<p>5 rows × 66 columns</p>\n",
       "</div>"
      ],
      "text/plain": [
       "  Country Name Country Code                            Indicator Name  \\\n",
       "0        Aruba          ABW  Urban population (% of total population)   \n",
       "1        Aruba          ABW                          Urban population   \n",
       "2        Aruba          ABW        Urban population growth (annual %)   \n",
       "3        Aruba          ABW                         Population, total   \n",
       "4        Aruba          ABW              Population growth (annual %)   \n",
       "\n",
       "      Indicator Code       1960          1961          1962          1963  \\\n",
       "0  SP.URB.TOTL.IN.ZS     50.776     50.761000     50.746000     50.730000   \n",
       "1        SP.URB.TOTL  27525.000  28139.000000  28537.000000  28763.000000   \n",
       "2        SP.URB.GROW        NaN      2.206183      1.404498      0.788835   \n",
       "3        SP.POP.TOTL  54208.000  55434.000000  56234.000000  56699.000000   \n",
       "4        SP.POP.GROW        NaN      2.236462      1.432843      0.823502   \n",
       "\n",
       "           1964          1965  ...           2012           2013  \\\n",
       "0     50.715000     50.700000  ...      42.957000      42.990000   \n",
       "1  28922.000000  29080.000000  ...   44059.000000   44351.000000   \n",
       "2      0.551271      0.544810  ...       0.543931       0.660561   \n",
       "3  57029.000000  57357.000000  ...  102565.000000  103165.000000   \n",
       "4      0.580334      0.573498  ...       0.503385       0.583290   \n",
       "\n",
       "            2014           2015           2016           2017           2018  \\\n",
       "0      43.041000      43.108000      43.192000      43.293000      43.411000   \n",
       "1   44666.000000   44978.000000   45293.000000   45614.000000   45949.000000   \n",
       "2       0.707733       0.696090       0.697901       0.706219       0.731740   \n",
       "3  103776.000000  104339.000000  104865.000000  105361.000000  105846.000000   \n",
       "4       0.590508       0.541048       0.502860       0.471874       0.459266   \n",
       "\n",
       "            2019           2020  Unnamed: 65  \n",
       "0      43.546000      43.697000          NaN  \n",
       "1   46294.000000   46654.000000          NaN  \n",
       "2       0.748028       0.774631          NaN  \n",
       "3  106310.000000  106766.000000          NaN  \n",
       "4       0.437415       0.428017          NaN  \n",
       "\n",
       "[5 rows x 66 columns]"
      ]
     },
     "execution_count": 84,
     "metadata": {},
     "output_type": "execute_result"
    }
   ],
   "source": [
    "# Transpose the dataframe to make the country column the index and the year the columns\n",
    "\n",
    "Transpose = df_world_bank\n",
    "Transpose.head()"
   ]
  },
  {
   "cell_type": "markdown",
   "metadata": {
    "id": "2VdrcFPm2Sti"
   },
   "source": [
    "Upon transposing the dataframe, we found that the data structure is not so useable as we have a couple of unneeded rows in the transposed dataframe. We shall proceed to dropping some of these columns. We would have dropped all, but it might be difficult to identify the respective indicators at a later time. Also, transposing the dataframe has tremendously increased to 20216 columns as against 66 columns in the original dataframe."
   ]
  },
  {
   "cell_type": "code",
   "execution_count": 18,
   "metadata": {
    "colab": {
     "base_uri": "https://localhost:8080/",
     "height": 421
    },
    "id": "as_y3LJq2Stn",
    "outputId": "15207aa4-fd14-49ff-88cd-6b62e19f2f18"
   },
   "outputs": [
    {
     "data": {
      "text/html": [
       "<div>\n",
       "<style scoped>\n",
       "    .dataframe tbody tr th:only-of-type {\n",
       "        vertical-align: middle;\n",
       "    }\n",
       "\n",
       "    .dataframe tbody tr th {\n",
       "        vertical-align: top;\n",
       "    }\n",
       "\n",
       "    .dataframe thead th {\n",
       "        text-align: right;\n",
       "    }\n",
       "</style>\n",
       "<table border=\"1\" class=\"dataframe\">\n",
       "  <thead>\n",
       "    <tr style=\"text-align: right;\">\n",
       "      <th></th>\n",
       "      <th>0</th>\n",
       "      <th>1</th>\n",
       "      <th>2</th>\n",
       "      <th>3</th>\n",
       "      <th>4</th>\n",
       "      <th>5</th>\n",
       "      <th>6</th>\n",
       "      <th>7</th>\n",
       "      <th>8</th>\n",
       "      <th>9</th>\n",
       "      <th>...</th>\n",
       "      <th>20206</th>\n",
       "      <th>20207</th>\n",
       "      <th>20208</th>\n",
       "      <th>20209</th>\n",
       "      <th>20210</th>\n",
       "      <th>20211</th>\n",
       "      <th>20212</th>\n",
       "      <th>20213</th>\n",
       "      <th>20214</th>\n",
       "      <th>20215</th>\n",
       "    </tr>\n",
       "  </thead>\n",
       "  <tbody>\n",
       "    <tr>\n",
       "      <th>Country Name</th>\n",
       "      <td>Aruba</td>\n",
       "      <td>Aruba</td>\n",
       "      <td>Aruba</td>\n",
       "      <td>Aruba</td>\n",
       "      <td>Aruba</td>\n",
       "      <td>Aruba</td>\n",
       "      <td>Aruba</td>\n",
       "      <td>Aruba</td>\n",
       "      <td>Aruba</td>\n",
       "      <td>Aruba</td>\n",
       "      <td>...</td>\n",
       "      <td>Zimbabwe</td>\n",
       "      <td>Zimbabwe</td>\n",
       "      <td>Zimbabwe</td>\n",
       "      <td>Zimbabwe</td>\n",
       "      <td>Zimbabwe</td>\n",
       "      <td>Zimbabwe</td>\n",
       "      <td>Zimbabwe</td>\n",
       "      <td>Zimbabwe</td>\n",
       "      <td>Zimbabwe</td>\n",
       "      <td>Zimbabwe</td>\n",
       "    </tr>\n",
       "    <tr>\n",
       "      <th>Indicator Name</th>\n",
       "      <td>Urban population (% of total population)</td>\n",
       "      <td>Urban population</td>\n",
       "      <td>Urban population growth (annual %)</td>\n",
       "      <td>Population, total</td>\n",
       "      <td>Population growth (annual %)</td>\n",
       "      <td>Poverty headcount ratio at $1.90 a day (2011 P...</td>\n",
       "      <td>Prevalence of underweight, weight for age (% o...</td>\n",
       "      <td>Community health workers (per 1,000 people)</td>\n",
       "      <td>Mortality rate, under-5 (per 1,000 live births)</td>\n",
       "      <td>Primary completion rate, total (% of relevant ...</td>\n",
       "      <td>...</td>\n",
       "      <td>Forest area (% of land area)</td>\n",
       "      <td>Forest area (sq. km)</td>\n",
       "      <td>Land area where elevation is below 5 meters (%...</td>\n",
       "      <td>Urban land area where elevation is below 5 met...</td>\n",
       "      <td>Urban land area where elevation is below 5 met...</td>\n",
       "      <td>Rural land area where elevation is below 5 met...</td>\n",
       "      <td>Rural land area where elevation is below 5 met...</td>\n",
       "      <td>Arable land (% of land area)</td>\n",
       "      <td>Agricultural land (% of land area)</td>\n",
       "      <td>Agricultural land (sq. km)</td>\n",
       "    </tr>\n",
       "    <tr>\n",
       "      <th>1960</th>\n",
       "      <td>50.776</td>\n",
       "      <td>27525.0</td>\n",
       "      <td>NaN</td>\n",
       "      <td>54208.0</td>\n",
       "      <td>NaN</td>\n",
       "      <td>NaN</td>\n",
       "      <td>NaN</td>\n",
       "      <td>NaN</td>\n",
       "      <td>NaN</td>\n",
       "      <td>NaN</td>\n",
       "      <td>...</td>\n",
       "      <td>NaN</td>\n",
       "      <td>NaN</td>\n",
       "      <td>NaN</td>\n",
       "      <td>NaN</td>\n",
       "      <td>NaN</td>\n",
       "      <td>NaN</td>\n",
       "      <td>NaN</td>\n",
       "      <td>NaN</td>\n",
       "      <td>NaN</td>\n",
       "      <td>NaN</td>\n",
       "    </tr>\n",
       "    <tr>\n",
       "      <th>1961</th>\n",
       "      <td>50.761</td>\n",
       "      <td>28139.0</td>\n",
       "      <td>2.206183</td>\n",
       "      <td>55434.0</td>\n",
       "      <td>2.236462</td>\n",
       "      <td>NaN</td>\n",
       "      <td>NaN</td>\n",
       "      <td>NaN</td>\n",
       "      <td>NaN</td>\n",
       "      <td>NaN</td>\n",
       "      <td>...</td>\n",
       "      <td>NaN</td>\n",
       "      <td>NaN</td>\n",
       "      <td>NaN</td>\n",
       "      <td>NaN</td>\n",
       "      <td>NaN</td>\n",
       "      <td>NaN</td>\n",
       "      <td>NaN</td>\n",
       "      <td>4.87269</td>\n",
       "      <td>28.396019</td>\n",
       "      <td>109850.0</td>\n",
       "    </tr>\n",
       "    <tr>\n",
       "      <th>1962</th>\n",
       "      <td>50.746</td>\n",
       "      <td>28537.0</td>\n",
       "      <td>1.404498</td>\n",
       "      <td>56234.0</td>\n",
       "      <td>1.432843</td>\n",
       "      <td>NaN</td>\n",
       "      <td>NaN</td>\n",
       "      <td>NaN</td>\n",
       "      <td>NaN</td>\n",
       "      <td>NaN</td>\n",
       "      <td>...</td>\n",
       "      <td>NaN</td>\n",
       "      <td>NaN</td>\n",
       "      <td>NaN</td>\n",
       "      <td>NaN</td>\n",
       "      <td>NaN</td>\n",
       "      <td>NaN</td>\n",
       "      <td>NaN</td>\n",
       "      <td>5.001939</td>\n",
       "      <td>28.615743</td>\n",
       "      <td>110700.0</td>\n",
       "    </tr>\n",
       "  </tbody>\n",
       "</table>\n",
       "<p>5 rows × 20216 columns</p>\n",
       "</div>"
      ],
      "text/plain": [
       "                                                   0                 1      \\\n",
       "Country Name                                       Aruba             Aruba   \n",
       "Indicator Name  Urban population (% of total population)  Urban population   \n",
       "1960                                              50.776           27525.0   \n",
       "1961                                              50.761           28139.0   \n",
       "1962                                              50.746           28537.0   \n",
       "\n",
       "                                             2                  3      \\\n",
       "Country Name                                 Aruba              Aruba   \n",
       "Indicator Name  Urban population growth (annual %)  Population, total   \n",
       "1960                                           NaN            54208.0   \n",
       "1961                                      2.206183            55434.0   \n",
       "1962                                      1.404498            56234.0   \n",
       "\n",
       "                                       4      \\\n",
       "Country Name                           Aruba   \n",
       "Indicator Name  Population growth (annual %)   \n",
       "1960                                     NaN   \n",
       "1961                                2.236462   \n",
       "1962                                1.432843   \n",
       "\n",
       "                                                            5      \\\n",
       "Country Name                                                Aruba   \n",
       "Indicator Name  Poverty headcount ratio at $1.90 a day (2011 P...   \n",
       "1960                                                          NaN   \n",
       "1961                                                          NaN   \n",
       "1962                                                          NaN   \n",
       "\n",
       "                                                            6      \\\n",
       "Country Name                                                Aruba   \n",
       "Indicator Name  Prevalence of underweight, weight for age (% o...   \n",
       "1960                                                          NaN   \n",
       "1961                                                          NaN   \n",
       "1962                                                          NaN   \n",
       "\n",
       "                                                      7      \\\n",
       "Country Name                                          Aruba   \n",
       "Indicator Name  Community health workers (per 1,000 people)   \n",
       "1960                                                    NaN   \n",
       "1961                                                    NaN   \n",
       "1962                                                    NaN   \n",
       "\n",
       "                                                          8      \\\n",
       "Country Name                                              Aruba   \n",
       "Indicator Name  Mortality rate, under-5 (per 1,000 live births)   \n",
       "1960                                                        NaN   \n",
       "1961                                                        NaN   \n",
       "1962                                                        NaN   \n",
       "\n",
       "                                                            9      ...  \\\n",
       "Country Name                                                Aruba  ...   \n",
       "Indicator Name  Primary completion rate, total (% of relevant ...  ...   \n",
       "1960                                                          NaN  ...   \n",
       "1961                                                          NaN  ...   \n",
       "1962                                                          NaN  ...   \n",
       "\n",
       "                                       20206                 20207  \\\n",
       "Country Name                        Zimbabwe              Zimbabwe   \n",
       "Indicator Name  Forest area (% of land area)  Forest area (sq. km)   \n",
       "1960                                     NaN                   NaN   \n",
       "1961                                     NaN                   NaN   \n",
       "1962                                     NaN                   NaN   \n",
       "\n",
       "                                                            20208  \\\n",
       "Country Name                                             Zimbabwe   \n",
       "Indicator Name  Land area where elevation is below 5 meters (%...   \n",
       "1960                                                          NaN   \n",
       "1961                                                          NaN   \n",
       "1962                                                          NaN   \n",
       "\n",
       "                                                            20209  \\\n",
       "Country Name                                             Zimbabwe   \n",
       "Indicator Name  Urban land area where elevation is below 5 met...   \n",
       "1960                                                          NaN   \n",
       "1961                                                          NaN   \n",
       "1962                                                          NaN   \n",
       "\n",
       "                                                            20210  \\\n",
       "Country Name                                             Zimbabwe   \n",
       "Indicator Name  Urban land area where elevation is below 5 met...   \n",
       "1960                                                          NaN   \n",
       "1961                                                          NaN   \n",
       "1962                                                          NaN   \n",
       "\n",
       "                                                            20211  \\\n",
       "Country Name                                             Zimbabwe   \n",
       "Indicator Name  Rural land area where elevation is below 5 met...   \n",
       "1960                                                          NaN   \n",
       "1961                                                          NaN   \n",
       "1962                                                          NaN   \n",
       "\n",
       "                                                            20212  \\\n",
       "Country Name                                             Zimbabwe   \n",
       "Indicator Name  Rural land area where elevation is below 5 met...   \n",
       "1960                                                          NaN   \n",
       "1961                                                          NaN   \n",
       "1962                                                          NaN   \n",
       "\n",
       "                                       20213  \\\n",
       "Country Name                        Zimbabwe   \n",
       "Indicator Name  Arable land (% of land area)   \n",
       "1960                                     NaN   \n",
       "1961                                 4.87269   \n",
       "1962                                5.001939   \n",
       "\n",
       "                                             20214                       20215  \n",
       "Country Name                              Zimbabwe                    Zimbabwe  \n",
       "Indicator Name  Agricultural land (% of land area)  Agricultural land (sq. km)  \n",
       "1960                                           NaN                         NaN  \n",
       "1961                                     28.396019                    109850.0  \n",
       "1962                                     28.615743                    110700.0  \n",
       "\n",
       "[5 rows x 20216 columns]"
      ]
     },
     "execution_count": 18,
     "metadata": {},
     "output_type": "execute_result"
    }
   ],
   "source": [
    "# Processing the dataframe to make the country column the index and the year the columns\n",
    "\n",
    "dataset_Transposed = drop_rows(Transpose, ['Country Code', 'Indicator Code'])\n",
    "dataset_Transposed.head()"
   ]
  },
  {
   "cell_type": "markdown",
   "metadata": {
    "id": "AyLg03DAVU0F"
   },
   "source": [
    "## Preprocessing and Visualization of the Original Dataframe (df)"
   ]
  },
  {
   "cell_type": "code",
   "execution_count": 19,
   "metadata": {
    "colab": {
     "base_uri": "https://localhost:8080/",
     "height": 490
    },
    "id": "VQO1PUppzH0o",
    "outputId": "b834ce6a-35c4-4a69-e819-9a0c564cd464"
   },
   "outputs": [
    {
     "data": {
      "text/html": [
       "<div>\n",
       "<style scoped>\n",
       "    .dataframe tbody tr th:only-of-type {\n",
       "        vertical-align: middle;\n",
       "    }\n",
       "\n",
       "    .dataframe tbody tr th {\n",
       "        vertical-align: top;\n",
       "    }\n",
       "\n",
       "    .dataframe thead th {\n",
       "        text-align: right;\n",
       "    }\n",
       "</style>\n",
       "<table border=\"1\" class=\"dataframe\">\n",
       "  <thead>\n",
       "    <tr style=\"text-align: right;\">\n",
       "      <th></th>\n",
       "      <th>Country Name</th>\n",
       "      <th>Country Code</th>\n",
       "      <th>Indicator Name</th>\n",
       "      <th>Indicator Code</th>\n",
       "      <th>1990</th>\n",
       "      <th>1991</th>\n",
       "      <th>1992</th>\n",
       "      <th>1993</th>\n",
       "      <th>1994</th>\n",
       "      <th>1995</th>\n",
       "      <th>...</th>\n",
       "      <th>2001</th>\n",
       "      <th>2002</th>\n",
       "      <th>2003</th>\n",
       "      <th>2004</th>\n",
       "      <th>2005</th>\n",
       "      <th>2006</th>\n",
       "      <th>2007</th>\n",
       "      <th>2008</th>\n",
       "      <th>2009</th>\n",
       "      <th>2010</th>\n",
       "    </tr>\n",
       "  </thead>\n",
       "  <tbody>\n",
       "    <tr>\n",
       "      <th>0</th>\n",
       "      <td>Aruba</td>\n",
       "      <td>ABW</td>\n",
       "      <td>Urban population (% of total population)</td>\n",
       "      <td>SP.URB.TOTL.IN.ZS</td>\n",
       "      <td>50.319000</td>\n",
       "      <td>50.304000</td>\n",
       "      <td>49.998000</td>\n",
       "      <td>49.588000</td>\n",
       "      <td>49.17700</td>\n",
       "      <td>48.767000</td>\n",
       "      <td>...</td>\n",
       "      <td>46.339000</td>\n",
       "      <td>45.972000</td>\n",
       "      <td>45.606000</td>\n",
       "      <td>45.240000</td>\n",
       "      <td>44.875000</td>\n",
       "      <td>44.511000</td>\n",
       "      <td>44.147000</td>\n",
       "      <td>43.783000</td>\n",
       "      <td>43.421000</td>\n",
       "      <td>43.059000</td>\n",
       "    </tr>\n",
       "    <tr>\n",
       "      <th>1</th>\n",
       "      <td>Aruba</td>\n",
       "      <td>ABW</td>\n",
       "      <td>Urban population</td>\n",
       "      <td>SP.URB.TOTL</td>\n",
       "      <td>31274.000000</td>\n",
       "      <td>32508.000000</td>\n",
       "      <td>34119.000000</td>\n",
       "      <td>35949.000000</td>\n",
       "      <td>37721.00000</td>\n",
       "      <td>39172.000000</td>\n",
       "      <td>...</td>\n",
       "      <td>43045.000000</td>\n",
       "      <td>43670.000000</td>\n",
       "      <td>44245.000000</td>\n",
       "      <td>44672.000000</td>\n",
       "      <td>44888.000000</td>\n",
       "      <td>44880.000000</td>\n",
       "      <td>44688.000000</td>\n",
       "      <td>44379.000000</td>\n",
       "      <td>44051.000000</td>\n",
       "      <td>43776.000000</td>\n",
       "    </tr>\n",
       "    <tr>\n",
       "      <th>2</th>\n",
       "      <td>Aruba</td>\n",
       "      <td>ABW</td>\n",
       "      <td>Urban population growth (annual %)</td>\n",
       "      <td>SP.URB.GROW</td>\n",
       "      <td>1.784062</td>\n",
       "      <td>3.869913</td>\n",
       "      <td>4.836820</td>\n",
       "      <td>5.224685</td>\n",
       "      <td>4.81157</td>\n",
       "      <td>3.774524</td>\n",
       "      <td>...</td>\n",
       "      <td>1.391917</td>\n",
       "      <td>1.441529</td>\n",
       "      <td>1.308100</td>\n",
       "      <td>0.960454</td>\n",
       "      <td>0.482359</td>\n",
       "      <td>-0.017824</td>\n",
       "      <td>-0.428725</td>\n",
       "      <td>-0.693862</td>\n",
       "      <td>-0.741833</td>\n",
       "      <td>-0.626233</td>\n",
       "    </tr>\n",
       "    <tr>\n",
       "      <th>3</th>\n",
       "      <td>Aruba</td>\n",
       "      <td>ABW</td>\n",
       "      <td>Population, total</td>\n",
       "      <td>SP.POP.TOTL</td>\n",
       "      <td>62152.000000</td>\n",
       "      <td>64623.000000</td>\n",
       "      <td>68240.000000</td>\n",
       "      <td>72495.000000</td>\n",
       "      <td>76705.00000</td>\n",
       "      <td>80324.000000</td>\n",
       "      <td>...</td>\n",
       "      <td>92892.000000</td>\n",
       "      <td>94992.000000</td>\n",
       "      <td>97016.000000</td>\n",
       "      <td>98744.000000</td>\n",
       "      <td>100028.000000</td>\n",
       "      <td>100830.000000</td>\n",
       "      <td>101226.000000</td>\n",
       "      <td>101362.000000</td>\n",
       "      <td>101452.000000</td>\n",
       "      <td>101665.000000</td>\n",
       "    </tr>\n",
       "    <tr>\n",
       "      <th>4</th>\n",
       "      <td>Aruba</td>\n",
       "      <td>ABW</td>\n",
       "      <td>Population growth (annual %)</td>\n",
       "      <td>SP.POP.GROW</td>\n",
       "      <td>1.816830</td>\n",
       "      <td>3.898739</td>\n",
       "      <td>5.446052</td>\n",
       "      <td>6.048669</td>\n",
       "      <td>5.64493</td>\n",
       "      <td>4.610156</td>\n",
       "      <td>...</td>\n",
       "      <td>2.205163</td>\n",
       "      <td>2.235515</td>\n",
       "      <td>2.108324</td>\n",
       "      <td>1.765473</td>\n",
       "      <td>1.291950</td>\n",
       "      <td>0.798578</td>\n",
       "      <td>0.391971</td>\n",
       "      <td>0.134263</td>\n",
       "      <td>0.088751</td>\n",
       "      <td>0.209731</td>\n",
       "    </tr>\n",
       "  </tbody>\n",
       "</table>\n",
       "<p>5 rows × 26 columns</p>\n",
       "</div>"
      ],
      "text/plain": [
       "  Country Name Country Code                            Indicator Name  \\\n",
       "0        Aruba          ABW  Urban population (% of total population)   \n",
       "1        Aruba          ABW                          Urban population   \n",
       "2        Aruba          ABW        Urban population growth (annual %)   \n",
       "3        Aruba          ABW                         Population, total   \n",
       "4        Aruba          ABW              Population growth (annual %)   \n",
       "\n",
       "      Indicator Code          1990          1991          1992          1993  \\\n",
       "0  SP.URB.TOTL.IN.ZS     50.319000     50.304000     49.998000     49.588000   \n",
       "1        SP.URB.TOTL  31274.000000  32508.000000  34119.000000  35949.000000   \n",
       "2        SP.URB.GROW      1.784062      3.869913      4.836820      5.224685   \n",
       "3        SP.POP.TOTL  62152.000000  64623.000000  68240.000000  72495.000000   \n",
       "4        SP.POP.GROW      1.816830      3.898739      5.446052      6.048669   \n",
       "\n",
       "          1994          1995  ...          2001          2002          2003  \\\n",
       "0     49.17700     48.767000  ...     46.339000     45.972000     45.606000   \n",
       "1  37721.00000  39172.000000  ...  43045.000000  43670.000000  44245.000000   \n",
       "2      4.81157      3.774524  ...      1.391917      1.441529      1.308100   \n",
       "3  76705.00000  80324.000000  ...  92892.000000  94992.000000  97016.000000   \n",
       "4      5.64493      4.610156  ...      2.205163      2.235515      2.108324   \n",
       "\n",
       "           2004           2005           2006           2007           2008  \\\n",
       "0     45.240000      44.875000      44.511000      44.147000      43.783000   \n",
       "1  44672.000000   44888.000000   44880.000000   44688.000000   44379.000000   \n",
       "2      0.960454       0.482359      -0.017824      -0.428725      -0.693862   \n",
       "3  98744.000000  100028.000000  100830.000000  101226.000000  101362.000000   \n",
       "4      1.765473       1.291950       0.798578       0.391971       0.134263   \n",
       "\n",
       "            2009           2010  \n",
       "0      43.421000      43.059000  \n",
       "1   44051.000000   43776.000000  \n",
       "2      -0.741833      -0.626233  \n",
       "3  101452.000000  101665.000000  \n",
       "4       0.088751       0.209731  \n",
       "\n",
       "[5 rows x 26 columns]"
      ]
     },
     "execution_count": 19,
     "metadata": {},
     "output_type": "execute_result"
    }
   ],
   "source": [
    "# Create a new dataframe for records between year 1990 and year 2010\n",
    "\n",
    "dataset = df_world_bank[['Country Name', 'Country Code', 'Indicator Name', 'Indicator Code', '1990', '1991', '1992', '1993', '1994', '1995', '1996', '1997', '1998', '1998', '1999', '2000', '2001', '2002', '2003', '2004', '2005', '2006', '2007', '2008', '2009', '2010']]\n",
    "dataset.head()"
   ]
  },
  {
   "cell_type": "code",
   "execution_count": 20,
   "metadata": {
    "colab": {
     "base_uri": "https://localhost:8080/",
     "height": 302
    },
    "id": "NWIbPlUN2Stq",
    "outputId": "4722ba6d-e291-436e-d5ab-e1ead659c315"
   },
   "outputs": [
    {
     "data": {
      "text/html": [
       "<div>\n",
       "<style scoped>\n",
       "    .dataframe tbody tr th:only-of-type {\n",
       "        vertical-align: middle;\n",
       "    }\n",
       "\n",
       "    .dataframe tbody tr th {\n",
       "        vertical-align: top;\n",
       "    }\n",
       "\n",
       "    .dataframe thead th {\n",
       "        text-align: right;\n",
       "    }\n",
       "</style>\n",
       "<table border=\"1\" class=\"dataframe\">\n",
       "  <thead>\n",
       "    <tr style=\"text-align: right;\">\n",
       "      <th></th>\n",
       "      <th>Country Name</th>\n",
       "      <th>Country Code</th>\n",
       "      <th>Indicator Name</th>\n",
       "      <th>Indicator Code</th>\n",
       "      <th>Year</th>\n",
       "      <th>Value</th>\n",
       "    </tr>\n",
       "  </thead>\n",
       "  <tbody>\n",
       "    <tr>\n",
       "      <th>0</th>\n",
       "      <td>Aruba</td>\n",
       "      <td>ABW</td>\n",
       "      <td>Urban population (% of total population)</td>\n",
       "      <td>SP.URB.TOTL.IN.ZS</td>\n",
       "      <td>1990</td>\n",
       "      <td>50.319000</td>\n",
       "    </tr>\n",
       "    <tr>\n",
       "      <th>1</th>\n",
       "      <td>Aruba</td>\n",
       "      <td>ABW</td>\n",
       "      <td>Urban population</td>\n",
       "      <td>SP.URB.TOTL</td>\n",
       "      <td>1990</td>\n",
       "      <td>31274.000000</td>\n",
       "    </tr>\n",
       "    <tr>\n",
       "      <th>2</th>\n",
       "      <td>Aruba</td>\n",
       "      <td>ABW</td>\n",
       "      <td>Urban population growth (annual %)</td>\n",
       "      <td>SP.URB.GROW</td>\n",
       "      <td>1990</td>\n",
       "      <td>1.784062</td>\n",
       "    </tr>\n",
       "    <tr>\n",
       "      <th>3</th>\n",
       "      <td>Aruba</td>\n",
       "      <td>ABW</td>\n",
       "      <td>Population, total</td>\n",
       "      <td>SP.POP.TOTL</td>\n",
       "      <td>1990</td>\n",
       "      <td>62152.000000</td>\n",
       "    </tr>\n",
       "    <tr>\n",
       "      <th>4</th>\n",
       "      <td>Aruba</td>\n",
       "      <td>ABW</td>\n",
       "      <td>Population growth (annual %)</td>\n",
       "      <td>SP.POP.GROW</td>\n",
       "      <td>1990</td>\n",
       "      <td>1.816830</td>\n",
       "    </tr>\n",
       "  </tbody>\n",
       "</table>\n",
       "</div>"
      ],
      "text/plain": [
       "  Country Name Country Code                            Indicator Name  \\\n",
       "0        Aruba          ABW  Urban population (% of total population)   \n",
       "1        Aruba          ABW                          Urban population   \n",
       "2        Aruba          ABW        Urban population growth (annual %)   \n",
       "3        Aruba          ABW                         Population, total   \n",
       "4        Aruba          ABW              Population growth (annual %)   \n",
       "\n",
       "      Indicator Code  Year         Value  \n",
       "0  SP.URB.TOTL.IN.ZS  1990     50.319000  \n",
       "1        SP.URB.TOTL  1990  31274.000000  \n",
       "2        SP.URB.GROW  1990      1.784062  \n",
       "3        SP.POP.TOTL  1990  62152.000000  \n",
       "4        SP.POP.GROW  1990      1.816830  "
      ]
     },
     "execution_count": 20,
     "metadata": {},
     "output_type": "execute_result"
    }
   ],
   "source": [
    "# Melt the dataframe to convert the year columns into a single column\n",
    "\n",
    "dataset = dataset.melt(id_vars=['Country Name', 'Country Code', 'Indicator Name', 'Indicator Code'], var_name='Year', value_name='Value')\n",
    "dataset.head()"
   ]
  },
  {
   "cell_type": "code",
   "execution_count": 21,
   "metadata": {
    "colab": {
     "base_uri": "https://localhost:8080/",
     "height": 355
    },
    "id": "FUFxZF612Stu",
    "outputId": "59d67c1b-d5ec-427c-93e7-4fec92fa23bf"
   },
   "outputs": [
    {
     "data": {
      "text/html": [
       "<div>\n",
       "<style scoped>\n",
       "    .dataframe tbody tr th:only-of-type {\n",
       "        vertical-align: middle;\n",
       "    }\n",
       "\n",
       "    .dataframe tbody tr th {\n",
       "        vertical-align: top;\n",
       "    }\n",
       "\n",
       "    .dataframe thead th {\n",
       "        text-align: right;\n",
       "    }\n",
       "</style>\n",
       "<table border=\"1\" class=\"dataframe\">\n",
       "  <thead>\n",
       "    <tr style=\"text-align: right;\">\n",
       "      <th></th>\n",
       "      <th>Country Name</th>\n",
       "      <th>Country Code</th>\n",
       "      <th>Indicator Name</th>\n",
       "      <th>Indicator Code</th>\n",
       "      <th>Year</th>\n",
       "      <th>Value</th>\n",
       "    </tr>\n",
       "  </thead>\n",
       "  <tbody>\n",
       "    <tr>\n",
       "      <th>61</th>\n",
       "      <td>Aruba</td>\n",
       "      <td>ABW</td>\n",
       "      <td>Access to electricity (% of population)</td>\n",
       "      <td>EG.ELC.ACCS.ZS</td>\n",
       "      <td>1990</td>\n",
       "      <td>100.0</td>\n",
       "    </tr>\n",
       "    <tr>\n",
       "      <th>137</th>\n",
       "      <td>Africa Eastern and Southern</td>\n",
       "      <td>AFE</td>\n",
       "      <td>Access to electricity (% of population)</td>\n",
       "      <td>EG.ELC.ACCS.ZS</td>\n",
       "      <td>1990</td>\n",
       "      <td>NaN</td>\n",
       "    </tr>\n",
       "    <tr>\n",
       "      <th>213</th>\n",
       "      <td>Afghanistan</td>\n",
       "      <td>AFG</td>\n",
       "      <td>Access to electricity (% of population)</td>\n",
       "      <td>EG.ELC.ACCS.ZS</td>\n",
       "      <td>1990</td>\n",
       "      <td>NaN</td>\n",
       "    </tr>\n",
       "    <tr>\n",
       "      <th>289</th>\n",
       "      <td>Africa Western and Central</td>\n",
       "      <td>AFW</td>\n",
       "      <td>Access to electricity (% of population)</td>\n",
       "      <td>EG.ELC.ACCS.ZS</td>\n",
       "      <td>1990</td>\n",
       "      <td>NaN</td>\n",
       "    </tr>\n",
       "    <tr>\n",
       "      <th>365</th>\n",
       "      <td>Angola</td>\n",
       "      <td>AGO</td>\n",
       "      <td>Access to electricity (% of population)</td>\n",
       "      <td>EG.ELC.ACCS.ZS</td>\n",
       "      <td>1990</td>\n",
       "      <td>NaN</td>\n",
       "    </tr>\n",
       "  </tbody>\n",
       "</table>\n",
       "</div>"
      ],
      "text/plain": [
       "                    Country Name Country Code  \\\n",
       "61                         Aruba          ABW   \n",
       "137  Africa Eastern and Southern          AFE   \n",
       "213                  Afghanistan          AFG   \n",
       "289   Africa Western and Central          AFW   \n",
       "365                       Angola          AGO   \n",
       "\n",
       "                              Indicator Name  Indicator Code  Year  Value  \n",
       "61   Access to electricity (% of population)  EG.ELC.ACCS.ZS  1990  100.0  \n",
       "137  Access to electricity (% of population)  EG.ELC.ACCS.ZS  1990    NaN  \n",
       "213  Access to electricity (% of population)  EG.ELC.ACCS.ZS  1990    NaN  \n",
       "289  Access to electricity (% of population)  EG.ELC.ACCS.ZS  1990    NaN  \n",
       "365  Access to electricity (% of population)  EG.ELC.ACCS.ZS  1990    NaN  "
      ]
     },
     "execution_count": 21,
     "metadata": {},
     "output_type": "execute_result"
    }
   ],
   "source": [
    "# Extracting only the needed indicators from the dataframe.\n",
    "# Here , arable land and forest area are the chosen indicators for this assignment\n",
    "\n",
    "df_elect = dataset[(dataset['Indicator Name'] == \"Access to electricity (% of population)\")]\n",
    "df_popul = dataset[(dataset['Indicator Name'] == \"Population, total\")]\n",
    "\n",
    "# Check the first five records\n",
    "df_elect.head()"
   ]
  },
  {
   "cell_type": "code",
   "execution_count": 22,
   "metadata": {
    "colab": {
     "base_uri": "https://localhost:8080/",
     "height": 250
    },
    "id": "MYHuadyJ2Sty",
    "outputId": "032975a1-2923-40ab-bcf9-1d2950cdfced"
   },
   "outputs": [
    {
     "data": {
      "text/html": [
       "<div>\n",
       "<style scoped>\n",
       "    .dataframe tbody tr th:only-of-type {\n",
       "        vertical-align: middle;\n",
       "    }\n",
       "\n",
       "    .dataframe tbody tr th {\n",
       "        vertical-align: top;\n",
       "    }\n",
       "\n",
       "    .dataframe thead th {\n",
       "        text-align: right;\n",
       "    }\n",
       "</style>\n",
       "<table border=\"1\" class=\"dataframe\">\n",
       "  <thead>\n",
       "    <tr style=\"text-align: right;\">\n",
       "      <th></th>\n",
       "      <th>Country Name</th>\n",
       "      <th>Country Code</th>\n",
       "      <th>Indicator Name</th>\n",
       "      <th>Indicator Code</th>\n",
       "      <th>Year</th>\n",
       "      <th>Value</th>\n",
       "    </tr>\n",
       "  </thead>\n",
       "  <tbody>\n",
       "    <tr>\n",
       "      <th>3</th>\n",
       "      <td>Aruba</td>\n",
       "      <td>ABW</td>\n",
       "      <td>Population, total</td>\n",
       "      <td>SP.POP.TOTL</td>\n",
       "      <td>1990</td>\n",
       "      <td>62152.0</td>\n",
       "    </tr>\n",
       "    <tr>\n",
       "      <th>79</th>\n",
       "      <td>Africa Eastern and Southern</td>\n",
       "      <td>AFE</td>\n",
       "      <td>Population, total</td>\n",
       "      <td>SP.POP.TOTL</td>\n",
       "      <td>1990</td>\n",
       "      <td>304648010.0</td>\n",
       "    </tr>\n",
       "    <tr>\n",
       "      <th>155</th>\n",
       "      <td>Afghanistan</td>\n",
       "      <td>AFG</td>\n",
       "      <td>Population, total</td>\n",
       "      <td>SP.POP.TOTL</td>\n",
       "      <td>1990</td>\n",
       "      <td>12412311.0</td>\n",
       "    </tr>\n",
       "    <tr>\n",
       "      <th>231</th>\n",
       "      <td>Africa Western and Central</td>\n",
       "      <td>AFW</td>\n",
       "      <td>Population, total</td>\n",
       "      <td>SP.POP.TOTL</td>\n",
       "      <td>1990</td>\n",
       "      <td>204803865.0</td>\n",
       "    </tr>\n",
       "    <tr>\n",
       "      <th>307</th>\n",
       "      <td>Angola</td>\n",
       "      <td>AGO</td>\n",
       "      <td>Population, total</td>\n",
       "      <td>SP.POP.TOTL</td>\n",
       "      <td>1990</td>\n",
       "      <td>11848385.0</td>\n",
       "    </tr>\n",
       "  </tbody>\n",
       "</table>\n",
       "</div>"
      ],
      "text/plain": [
       "                    Country Name Country Code     Indicator Name  \\\n",
       "3                          Aruba          ABW  Population, total   \n",
       "79   Africa Eastern and Southern          AFE  Population, total   \n",
       "155                  Afghanistan          AFG  Population, total   \n",
       "231   Africa Western and Central          AFW  Population, total   \n",
       "307                       Angola          AGO  Population, total   \n",
       "\n",
       "    Indicator Code  Year        Value  \n",
       "3      SP.POP.TOTL  1990      62152.0  \n",
       "79     SP.POP.TOTL  1990  304648010.0  \n",
       "155    SP.POP.TOTL  1990   12412311.0  \n",
       "231    SP.POP.TOTL  1990  204803865.0  \n",
       "307    SP.POP.TOTL  1990   11848385.0  "
      ]
     },
     "execution_count": 22,
     "metadata": {},
     "output_type": "execute_result"
    }
   ],
   "source": [
    "# Check the first five records\n",
    "\n",
    "df_popul.head()"
   ]
  },
  {
   "cell_type": "code",
   "execution_count": 23,
   "metadata": {
    "colab": {
     "base_uri": "https://localhost:8080/",
     "height": 547
    },
    "id": "NTGXQJcn2St1",
    "outputId": "810db23b-3a1d-4e11-9e41-7b4962b1e621"
   },
   "outputs": [
    {
     "data": {
      "text/html": [
       "<div>\n",
       "<style scoped>\n",
       "    .dataframe tbody tr th:only-of-type {\n",
       "        vertical-align: middle;\n",
       "    }\n",
       "\n",
       "    .dataframe tbody tr th {\n",
       "        vertical-align: top;\n",
       "    }\n",
       "\n",
       "    .dataframe thead th {\n",
       "        text-align: right;\n",
       "    }\n",
       "</style>\n",
       "<table border=\"1\" class=\"dataframe\">\n",
       "  <thead>\n",
       "    <tr style=\"text-align: right;\">\n",
       "      <th></th>\n",
       "      <th>Country Name</th>\n",
       "      <th>Country Code</th>\n",
       "      <th>Indicator Name_x</th>\n",
       "      <th>Indicator Code_x</th>\n",
       "      <th>Year</th>\n",
       "      <th>Value_x</th>\n",
       "      <th>Indicator Name_y</th>\n",
       "      <th>Indicator Code_y</th>\n",
       "      <th>Value_y</th>\n",
       "    </tr>\n",
       "  </thead>\n",
       "  <tbody>\n",
       "    <tr>\n",
       "      <th>0</th>\n",
       "      <td>Aruba</td>\n",
       "      <td>ABW</td>\n",
       "      <td>Access to electricity (% of population)</td>\n",
       "      <td>EG.ELC.ACCS.ZS</td>\n",
       "      <td>1990</td>\n",
       "      <td>100.0</td>\n",
       "      <td>Population, total</td>\n",
       "      <td>SP.POP.TOTL</td>\n",
       "      <td>62152.0</td>\n",
       "    </tr>\n",
       "    <tr>\n",
       "      <th>1</th>\n",
       "      <td>Africa Eastern and Southern</td>\n",
       "      <td>AFE</td>\n",
       "      <td>Access to electricity (% of population)</td>\n",
       "      <td>EG.ELC.ACCS.ZS</td>\n",
       "      <td>1990</td>\n",
       "      <td>NaN</td>\n",
       "      <td>Population, total</td>\n",
       "      <td>SP.POP.TOTL</td>\n",
       "      <td>304648010.0</td>\n",
       "    </tr>\n",
       "    <tr>\n",
       "      <th>2</th>\n",
       "      <td>Afghanistan</td>\n",
       "      <td>AFG</td>\n",
       "      <td>Access to electricity (% of population)</td>\n",
       "      <td>EG.ELC.ACCS.ZS</td>\n",
       "      <td>1990</td>\n",
       "      <td>NaN</td>\n",
       "      <td>Population, total</td>\n",
       "      <td>SP.POP.TOTL</td>\n",
       "      <td>12412311.0</td>\n",
       "    </tr>\n",
       "    <tr>\n",
       "      <th>3</th>\n",
       "      <td>Africa Western and Central</td>\n",
       "      <td>AFW</td>\n",
       "      <td>Access to electricity (% of population)</td>\n",
       "      <td>EG.ELC.ACCS.ZS</td>\n",
       "      <td>1990</td>\n",
       "      <td>NaN</td>\n",
       "      <td>Population, total</td>\n",
       "      <td>SP.POP.TOTL</td>\n",
       "      <td>204803865.0</td>\n",
       "    </tr>\n",
       "    <tr>\n",
       "      <th>4</th>\n",
       "      <td>Angola</td>\n",
       "      <td>AGO</td>\n",
       "      <td>Access to electricity (% of population)</td>\n",
       "      <td>EG.ELC.ACCS.ZS</td>\n",
       "      <td>1990</td>\n",
       "      <td>NaN</td>\n",
       "      <td>Population, total</td>\n",
       "      <td>SP.POP.TOTL</td>\n",
       "      <td>11848385.0</td>\n",
       "    </tr>\n",
       "  </tbody>\n",
       "</table>\n",
       "</div>"
      ],
      "text/plain": [
       "                  Country Name Country Code  \\\n",
       "0                        Aruba          ABW   \n",
       "1  Africa Eastern and Southern          AFE   \n",
       "2                  Afghanistan          AFG   \n",
       "3   Africa Western and Central          AFW   \n",
       "4                       Angola          AGO   \n",
       "\n",
       "                          Indicator Name_x Indicator Code_x  Year  Value_x  \\\n",
       "0  Access to electricity (% of population)   EG.ELC.ACCS.ZS  1990    100.0   \n",
       "1  Access to electricity (% of population)   EG.ELC.ACCS.ZS  1990      NaN   \n",
       "2  Access to electricity (% of population)   EG.ELC.ACCS.ZS  1990      NaN   \n",
       "3  Access to electricity (% of population)   EG.ELC.ACCS.ZS  1990      NaN   \n",
       "4  Access to electricity (% of population)   EG.ELC.ACCS.ZS  1990      NaN   \n",
       "\n",
       "    Indicator Name_y Indicator Code_y      Value_y  \n",
       "0  Population, total      SP.POP.TOTL      62152.0  \n",
       "1  Population, total      SP.POP.TOTL  304648010.0  \n",
       "2  Population, total      SP.POP.TOTL   12412311.0  \n",
       "3  Population, total      SP.POP.TOTL  204803865.0  \n",
       "4  Population, total      SP.POP.TOTL   11848385.0  "
      ]
     },
     "execution_count": 23,
     "metadata": {},
     "output_type": "execute_result"
    }
   ],
   "source": [
    "# Merge the two dataframes to make one dataframe\n",
    "\n",
    "df_merged = df_elect.merge(df_popul, on=['Country Name', 'Country Code', 'Year'])\n",
    "df_merged.head()"
   ]
  },
  {
   "cell_type": "code",
   "execution_count": 24,
   "metadata": {
    "colab": {
     "base_uri": "https://localhost:8080/",
     "height": 583
    },
    "id": "n--ZfcoG2St6",
    "outputId": "aefcbc0e-855d-4ae8-871b-0a03ed6ee4b4"
   },
   "outputs": [
    {
     "data": {
      "text/html": [
       "<div>\n",
       "<style scoped>\n",
       "    .dataframe tbody tr th:only-of-type {\n",
       "        vertical-align: middle;\n",
       "    }\n",
       "\n",
       "    .dataframe tbody tr th {\n",
       "        vertical-align: top;\n",
       "    }\n",
       "\n",
       "    .dataframe thead th {\n",
       "        text-align: right;\n",
       "    }\n",
       "</style>\n",
       "<table border=\"1\" class=\"dataframe\">\n",
       "  <thead>\n",
       "    <tr style=\"text-align: right;\">\n",
       "      <th></th>\n",
       "      <th>Country Name</th>\n",
       "      <th>Country Code</th>\n",
       "      <th>Indicator Name_x</th>\n",
       "      <th>Indicator Code_x</th>\n",
       "      <th>Year</th>\n",
       "      <th>Access to electricity (% of population))</th>\n",
       "      <th>Indicator Name_y</th>\n",
       "      <th>Indicator Code_y</th>\n",
       "      <th>Population (total)</th>\n",
       "    </tr>\n",
       "  </thead>\n",
       "  <tbody>\n",
       "    <tr>\n",
       "      <th>0</th>\n",
       "      <td>Aruba</td>\n",
       "      <td>ABW</td>\n",
       "      <td>Access to electricity (% of population)</td>\n",
       "      <td>EG.ELC.ACCS.ZS</td>\n",
       "      <td>1990</td>\n",
       "      <td>100.0</td>\n",
       "      <td>Population, total</td>\n",
       "      <td>SP.POP.TOTL</td>\n",
       "      <td>62152.0</td>\n",
       "    </tr>\n",
       "    <tr>\n",
       "      <th>1</th>\n",
       "      <td>Africa Eastern and Southern</td>\n",
       "      <td>AFE</td>\n",
       "      <td>Access to electricity (% of population)</td>\n",
       "      <td>EG.ELC.ACCS.ZS</td>\n",
       "      <td>1990</td>\n",
       "      <td>NaN</td>\n",
       "      <td>Population, total</td>\n",
       "      <td>SP.POP.TOTL</td>\n",
       "      <td>304648010.0</td>\n",
       "    </tr>\n",
       "    <tr>\n",
       "      <th>2</th>\n",
       "      <td>Afghanistan</td>\n",
       "      <td>AFG</td>\n",
       "      <td>Access to electricity (% of population)</td>\n",
       "      <td>EG.ELC.ACCS.ZS</td>\n",
       "      <td>1990</td>\n",
       "      <td>NaN</td>\n",
       "      <td>Population, total</td>\n",
       "      <td>SP.POP.TOTL</td>\n",
       "      <td>12412311.0</td>\n",
       "    </tr>\n",
       "    <tr>\n",
       "      <th>3</th>\n",
       "      <td>Africa Western and Central</td>\n",
       "      <td>AFW</td>\n",
       "      <td>Access to electricity (% of population)</td>\n",
       "      <td>EG.ELC.ACCS.ZS</td>\n",
       "      <td>1990</td>\n",
       "      <td>NaN</td>\n",
       "      <td>Population, total</td>\n",
       "      <td>SP.POP.TOTL</td>\n",
       "      <td>204803865.0</td>\n",
       "    </tr>\n",
       "    <tr>\n",
       "      <th>4</th>\n",
       "      <td>Angola</td>\n",
       "      <td>AGO</td>\n",
       "      <td>Access to electricity (% of population)</td>\n",
       "      <td>EG.ELC.ACCS.ZS</td>\n",
       "      <td>1990</td>\n",
       "      <td>NaN</td>\n",
       "      <td>Population, total</td>\n",
       "      <td>SP.POP.TOTL</td>\n",
       "      <td>11848385.0</td>\n",
       "    </tr>\n",
       "  </tbody>\n",
       "</table>\n",
       "</div>"
      ],
      "text/plain": [
       "                  Country Name Country Code  \\\n",
       "0                        Aruba          ABW   \n",
       "1  Africa Eastern and Southern          AFE   \n",
       "2                  Afghanistan          AFG   \n",
       "3   Africa Western and Central          AFW   \n",
       "4                       Angola          AGO   \n",
       "\n",
       "                          Indicator Name_x Indicator Code_x  Year  \\\n",
       "0  Access to electricity (% of population)   EG.ELC.ACCS.ZS  1990   \n",
       "1  Access to electricity (% of population)   EG.ELC.ACCS.ZS  1990   \n",
       "2  Access to electricity (% of population)   EG.ELC.ACCS.ZS  1990   \n",
       "3  Access to electricity (% of population)   EG.ELC.ACCS.ZS  1990   \n",
       "4  Access to electricity (% of population)   EG.ELC.ACCS.ZS  1990   \n",
       "\n",
       "   Access to electricity (% of population))   Indicator Name_y  \\\n",
       "0                                     100.0  Population, total   \n",
       "1                                       NaN  Population, total   \n",
       "2                                       NaN  Population, total   \n",
       "3                                       NaN  Population, total   \n",
       "4                                       NaN  Population, total   \n",
       "\n",
       "  Indicator Code_y  Population (total)  \n",
       "0      SP.POP.TOTL             62152.0  \n",
       "1      SP.POP.TOTL         304648010.0  \n",
       "2      SP.POP.TOTL          12412311.0  \n",
       "3      SP.POP.TOTL         204803865.0  \n",
       "4      SP.POP.TOTL          11848385.0  "
      ]
     },
     "execution_count": 24,
     "metadata": {},
     "output_type": "execute_result"
    }
   ],
   "source": [
    "# Renamme columns\n",
    "\n",
    "df_merged.rename(columns={'Value_x':'Access to electricity (% of population))', 'Value_y':'Population (total)'}, inplace=True)\n",
    "df_merged.head()"
   ]
  },
  {
   "cell_type": "code",
   "execution_count": 25,
   "metadata": {
    "colab": {
     "base_uri": "https://localhost:8080/",
     "height": 458
    },
    "id": "KuD3mRPluu_P",
    "outputId": "967fa911-7008-40db-e570-f2efc75e68f7"
   },
   "outputs": [
    {
     "data": {
      "text/html": [
       "<div>\n",
       "<style scoped>\n",
       "    .dataframe tbody tr th:only-of-type {\n",
       "        vertical-align: middle;\n",
       "    }\n",
       "\n",
       "    .dataframe tbody tr th {\n",
       "        vertical-align: top;\n",
       "    }\n",
       "\n",
       "    .dataframe thead th {\n",
       "        text-align: right;\n",
       "    }\n",
       "</style>\n",
       "<table border=\"1\" class=\"dataframe\">\n",
       "  <thead>\n",
       "    <tr style=\"text-align: right;\">\n",
       "      <th></th>\n",
       "      <th>Country Name</th>\n",
       "      <th>Country Code</th>\n",
       "      <th>Indicator Name_x</th>\n",
       "      <th>Year</th>\n",
       "      <th>Access to electricity (% of population))</th>\n",
       "      <th>Indicator Name_y</th>\n",
       "      <th>Population (total)</th>\n",
       "    </tr>\n",
       "  </thead>\n",
       "  <tbody>\n",
       "    <tr>\n",
       "      <th>0</th>\n",
       "      <td>Aruba</td>\n",
       "      <td>ABW</td>\n",
       "      <td>Access to electricity (% of population)</td>\n",
       "      <td>1990</td>\n",
       "      <td>100.0</td>\n",
       "      <td>Population, total</td>\n",
       "      <td>62152.0</td>\n",
       "    </tr>\n",
       "    <tr>\n",
       "      <th>1</th>\n",
       "      <td>Africa Eastern and Southern</td>\n",
       "      <td>AFE</td>\n",
       "      <td>Access to electricity (% of population)</td>\n",
       "      <td>1990</td>\n",
       "      <td>NaN</td>\n",
       "      <td>Population, total</td>\n",
       "      <td>304648010.0</td>\n",
       "    </tr>\n",
       "    <tr>\n",
       "      <th>2</th>\n",
       "      <td>Afghanistan</td>\n",
       "      <td>AFG</td>\n",
       "      <td>Access to electricity (% of population)</td>\n",
       "      <td>1990</td>\n",
       "      <td>NaN</td>\n",
       "      <td>Population, total</td>\n",
       "      <td>12412311.0</td>\n",
       "    </tr>\n",
       "    <tr>\n",
       "      <th>3</th>\n",
       "      <td>Africa Western and Central</td>\n",
       "      <td>AFW</td>\n",
       "      <td>Access to electricity (% of population)</td>\n",
       "      <td>1990</td>\n",
       "      <td>NaN</td>\n",
       "      <td>Population, total</td>\n",
       "      <td>204803865.0</td>\n",
       "    </tr>\n",
       "    <tr>\n",
       "      <th>4</th>\n",
       "      <td>Angola</td>\n",
       "      <td>AGO</td>\n",
       "      <td>Access to electricity (% of population)</td>\n",
       "      <td>1990</td>\n",
       "      <td>NaN</td>\n",
       "      <td>Population, total</td>\n",
       "      <td>11848385.0</td>\n",
       "    </tr>\n",
       "  </tbody>\n",
       "</table>\n",
       "</div>"
      ],
      "text/plain": [
       "                  Country Name Country Code  \\\n",
       "0                        Aruba          ABW   \n",
       "1  Africa Eastern and Southern          AFE   \n",
       "2                  Afghanistan          AFG   \n",
       "3   Africa Western and Central          AFW   \n",
       "4                       Angola          AGO   \n",
       "\n",
       "                          Indicator Name_x  Year  \\\n",
       "0  Access to electricity (% of population)  1990   \n",
       "1  Access to electricity (% of population)  1990   \n",
       "2  Access to electricity (% of population)  1990   \n",
       "3  Access to electricity (% of population)  1990   \n",
       "4  Access to electricity (% of population)  1990   \n",
       "\n",
       "   Access to electricity (% of population))   Indicator Name_y  \\\n",
       "0                                     100.0  Population, total   \n",
       "1                                       NaN  Population, total   \n",
       "2                                       NaN  Population, total   \n",
       "3                                       NaN  Population, total   \n",
       "4                                       NaN  Population, total   \n",
       "\n",
       "   Population (total)  \n",
       "0             62152.0  \n",
       "1         304648010.0  \n",
       "2          12412311.0  \n",
       "3         204803865.0  \n",
       "4          11848385.0  "
      ]
     },
     "execution_count": 25,
     "metadata": {},
     "output_type": "execute_result"
    }
   ],
   "source": [
    "# Drop the columns not needed for our analysis\n",
    "\n",
    "df_merged = drop_columns(df_merged, ['Indicator Code_x', 'Indicator Code_y'])\n",
    "df_merged.head()"
   ]
  },
  {
   "cell_type": "code",
   "execution_count": 26,
   "metadata": {
    "colab": {
     "base_uri": "https://localhost:8080/",
     "height": 458
    },
    "id": "B2D01sxz2SuB",
    "outputId": "fe3dbc4f-bad6-4e86-dd31-97398d782ff5"
   },
   "outputs": [
    {
     "data": {
      "text/html": [
       "<div>\n",
       "<style scoped>\n",
       "    .dataframe tbody tr th:only-of-type {\n",
       "        vertical-align: middle;\n",
       "    }\n",
       "\n",
       "    .dataframe tbody tr th {\n",
       "        vertical-align: top;\n",
       "    }\n",
       "\n",
       "    .dataframe thead th {\n",
       "        text-align: right;\n",
       "    }\n",
       "</style>\n",
       "<table border=\"1\" class=\"dataframe\">\n",
       "  <thead>\n",
       "    <tr style=\"text-align: right;\">\n",
       "      <th></th>\n",
       "      <th>Country Name</th>\n",
       "      <th>Country Code</th>\n",
       "      <th>Indicator Name_x</th>\n",
       "      <th>Year</th>\n",
       "      <th>Access to electricity (% of population))</th>\n",
       "      <th>Indicator Name_y</th>\n",
       "      <th>Population (total)</th>\n",
       "    </tr>\n",
       "  </thead>\n",
       "  <tbody>\n",
       "    <tr>\n",
       "      <th>0</th>\n",
       "      <td>Aruba</td>\n",
       "      <td>ABW</td>\n",
       "      <td>Access to electricity (% of population)</td>\n",
       "      <td>1990</td>\n",
       "      <td>100.000000</td>\n",
       "      <td>Population, total</td>\n",
       "      <td>62152.0</td>\n",
       "    </tr>\n",
       "    <tr>\n",
       "      <th>1</th>\n",
       "      <td>Aruba</td>\n",
       "      <td>ABW</td>\n",
       "      <td>Access to electricity (% of population)</td>\n",
       "      <td>1991</td>\n",
       "      <td>99.153656</td>\n",
       "      <td>Population, total</td>\n",
       "      <td>64623.0</td>\n",
       "    </tr>\n",
       "    <tr>\n",
       "      <th>2</th>\n",
       "      <td>Aruba</td>\n",
       "      <td>ABW</td>\n",
       "      <td>Access to electricity (% of population)</td>\n",
       "      <td>1992</td>\n",
       "      <td>99.197128</td>\n",
       "      <td>Population, total</td>\n",
       "      <td>68240.0</td>\n",
       "    </tr>\n",
       "    <tr>\n",
       "      <th>3</th>\n",
       "      <td>Aruba</td>\n",
       "      <td>ABW</td>\n",
       "      <td>Access to electricity (% of population)</td>\n",
       "      <td>1993</td>\n",
       "      <td>99.239914</td>\n",
       "      <td>Population, total</td>\n",
       "      <td>72495.0</td>\n",
       "    </tr>\n",
       "    <tr>\n",
       "      <th>4</th>\n",
       "      <td>Aruba</td>\n",
       "      <td>ABW</td>\n",
       "      <td>Access to electricity (% of population)</td>\n",
       "      <td>1994</td>\n",
       "      <td>100.000000</td>\n",
       "      <td>Population, total</td>\n",
       "      <td>76705.0</td>\n",
       "    </tr>\n",
       "  </tbody>\n",
       "</table>\n",
       "</div>"
      ],
      "text/plain": [
       "  Country Name Country Code                         Indicator Name_x  Year  \\\n",
       "0        Aruba          ABW  Access to electricity (% of population)  1990   \n",
       "1        Aruba          ABW  Access to electricity (% of population)  1991   \n",
       "2        Aruba          ABW  Access to electricity (% of population)  1992   \n",
       "3        Aruba          ABW  Access to electricity (% of population)  1993   \n",
       "4        Aruba          ABW  Access to electricity (% of population)  1994   \n",
       "\n",
       "   Access to electricity (% of population))   Indicator Name_y  \\\n",
       "0                                100.000000  Population, total   \n",
       "1                                 99.153656  Population, total   \n",
       "2                                 99.197128  Population, total   \n",
       "3                                 99.239914  Population, total   \n",
       "4                                100.000000  Population, total   \n",
       "\n",
       "   Population (total)  \n",
       "0             62152.0  \n",
       "1             64623.0  \n",
       "2             68240.0  \n",
       "3             72495.0  \n",
       "4             76705.0  "
      ]
     },
     "execution_count": 26,
     "metadata": {},
     "output_type": "execute_result"
    }
   ],
   "source": [
    "# Create a new dataframe by merging the world dataframe with the existing dataframe\n",
    "\n",
    "df_final = df_merged.merge(df_countries_final, on=['Country Name', 'Country Code',])\n",
    "df_final.head()"
   ]
  },
  {
   "cell_type": "code",
   "execution_count": 27,
   "metadata": {
    "colab": {
     "base_uri": "https://localhost:8080/",
     "height": 267
    },
    "id": "mU8WcBrl2SuD",
    "outputId": "94deb651-b239-4da7-a7b7-45a8f986200f"
   },
   "outputs": [
    {
     "data": {
      "text/html": [
       "<div>\n",
       "<style scoped>\n",
       "    .dataframe tbody tr th:only-of-type {\n",
       "        vertical-align: middle;\n",
       "    }\n",
       "\n",
       "    .dataframe tbody tr th {\n",
       "        vertical-align: top;\n",
       "    }\n",
       "\n",
       "    .dataframe thead th {\n",
       "        text-align: right;\n",
       "    }\n",
       "</style>\n",
       "<table border=\"1\" class=\"dataframe\">\n",
       "  <thead>\n",
       "    <tr style=\"text-align: right;\">\n",
       "      <th></th>\n",
       "      <th>Country Name</th>\n",
       "      <th>Country Code</th>\n",
       "      <th>Year</th>\n",
       "      <th>Access to electricity (% of population))</th>\n",
       "      <th>Population (total)</th>\n",
       "    </tr>\n",
       "  </thead>\n",
       "  <tbody>\n",
       "    <tr>\n",
       "      <th>0</th>\n",
       "      <td>Aruba</td>\n",
       "      <td>ABW</td>\n",
       "      <td>1990</td>\n",
       "      <td>100.000000</td>\n",
       "      <td>62152.0</td>\n",
       "    </tr>\n",
       "    <tr>\n",
       "      <th>1</th>\n",
       "      <td>Aruba</td>\n",
       "      <td>ABW</td>\n",
       "      <td>1991</td>\n",
       "      <td>99.153656</td>\n",
       "      <td>64623.0</td>\n",
       "    </tr>\n",
       "    <tr>\n",
       "      <th>2</th>\n",
       "      <td>Aruba</td>\n",
       "      <td>ABW</td>\n",
       "      <td>1992</td>\n",
       "      <td>99.197128</td>\n",
       "      <td>68240.0</td>\n",
       "    </tr>\n",
       "    <tr>\n",
       "      <th>3</th>\n",
       "      <td>Aruba</td>\n",
       "      <td>ABW</td>\n",
       "      <td>1993</td>\n",
       "      <td>99.239914</td>\n",
       "      <td>72495.0</td>\n",
       "    </tr>\n",
       "    <tr>\n",
       "      <th>4</th>\n",
       "      <td>Aruba</td>\n",
       "      <td>ABW</td>\n",
       "      <td>1994</td>\n",
       "      <td>100.000000</td>\n",
       "      <td>76705.0</td>\n",
       "    </tr>\n",
       "  </tbody>\n",
       "</table>\n",
       "</div>"
      ],
      "text/plain": [
       "  Country Name Country Code  Year  Access to electricity (% of population))  \\\n",
       "0        Aruba          ABW  1990                                100.000000   \n",
       "1        Aruba          ABW  1991                                 99.153656   \n",
       "2        Aruba          ABW  1992                                 99.197128   \n",
       "3        Aruba          ABW  1993                                 99.239914   \n",
       "4        Aruba          ABW  1994                                100.000000   \n",
       "\n",
       "   Population (total)  \n",
       "0             62152.0  \n",
       "1             64623.0  \n",
       "2             68240.0  \n",
       "3             72495.0  \n",
       "4             76705.0  "
      ]
     },
     "execution_count": 27,
     "metadata": {},
     "output_type": "execute_result"
    }
   ],
   "source": [
    "# Drop Columns not needed in the dataframe\n",
    "\n",
    "df_final = drop_columns(df_final, ['Indicator Name_x', 'Indicator Name_y', ])\n",
    "df_final.head()"
   ]
  },
  {
   "cell_type": "code",
   "execution_count": 28,
   "metadata": {
    "colab": {
     "base_uri": "https://localhost:8080/"
    },
    "id": "36j79r46uu_S",
    "outputId": "03d4ae86-6fa9-421e-87b9-6b5c6bbc27a8"
   },
   "outputs": [
    {
     "data": {
      "text/plain": [
       "(4416, 5)"
      ]
     },
     "execution_count": 28,
     "metadata": {},
     "output_type": "execute_result"
    }
   ],
   "source": [
    "# Check for the number of observations (rows) and attributes (columns) in the dataframe\n",
    "\n",
    "df_final.shape"
   ]
  },
  {
   "cell_type": "code",
   "execution_count": 29,
   "metadata": {
    "colab": {
     "base_uri": "https://localhost:8080/",
     "height": 300
    },
    "id": "Tv-I2TKD5zbF",
    "outputId": "3747fdcc-54fb-41b8-ea35-da0995fe0a00"
   },
   "outputs": [
    {
     "data": {
      "text/html": [
       "<div>\n",
       "<style scoped>\n",
       "    .dataframe tbody tr th:only-of-type {\n",
       "        vertical-align: middle;\n",
       "    }\n",
       "\n",
       "    .dataframe tbody tr th {\n",
       "        vertical-align: top;\n",
       "    }\n",
       "\n",
       "    .dataframe thead th {\n",
       "        text-align: right;\n",
       "    }\n",
       "</style>\n",
       "<table border=\"1\" class=\"dataframe\">\n",
       "  <thead>\n",
       "    <tr style=\"text-align: right;\">\n",
       "      <th></th>\n",
       "      <th>Access to electricity (% of population))</th>\n",
       "      <th>Population (total)</th>\n",
       "    </tr>\n",
       "  </thead>\n",
       "  <tbody>\n",
       "    <tr>\n",
       "      <th>count</th>\n",
       "      <td>3497.000000</td>\n",
       "      <td>4.413000e+03</td>\n",
       "    </tr>\n",
       "    <tr>\n",
       "      <th>mean</th>\n",
       "      <td>79.304171</td>\n",
       "      <td>2.856221e+07</td>\n",
       "    </tr>\n",
       "    <tr>\n",
       "      <th>std</th>\n",
       "      <td>31.489565</td>\n",
       "      <td>1.227270e+08</td>\n",
       "    </tr>\n",
       "    <tr>\n",
       "      <th>min</th>\n",
       "      <td>0.533899</td>\n",
       "      <td>8.910000e+03</td>\n",
       "    </tr>\n",
       "    <tr>\n",
       "      <th>25%</th>\n",
       "      <td>69.559090</td>\n",
       "      <td>6.150130e+05</td>\n",
       "    </tr>\n",
       "    <tr>\n",
       "      <th>50%</th>\n",
       "      <td>99.269470</td>\n",
       "      <td>4.910642e+06</td>\n",
       "    </tr>\n",
       "    <tr>\n",
       "      <th>75%</th>\n",
       "      <td>100.000000</td>\n",
       "      <td>1.518417e+07</td>\n",
       "    </tr>\n",
       "    <tr>\n",
       "      <th>max</th>\n",
       "      <td>100.000000</td>\n",
       "      <td>1.337705e+09</td>\n",
       "    </tr>\n",
       "  </tbody>\n",
       "</table>\n",
       "</div>"
      ],
      "text/plain": [
       "       Access to electricity (% of population))  Population (total)\n",
       "count                               3497.000000        4.413000e+03\n",
       "mean                                  79.304171        2.856221e+07\n",
       "std                                   31.489565        1.227270e+08\n",
       "min                                    0.533899        8.910000e+03\n",
       "25%                                   69.559090        6.150130e+05\n",
       "50%                                   99.269470        4.910642e+06\n",
       "75%                                  100.000000        1.518417e+07\n",
       "max                                  100.000000        1.337705e+09"
      ]
     },
     "execution_count": 29,
     "metadata": {},
     "output_type": "execute_result"
    }
   ],
   "source": [
    "# Produce a summary statistics of the numerical variables in the dataframe\n",
    "\n",
    "df_final.describe()"
   ]
  },
  {
   "cell_type": "code",
   "execution_count": 30,
   "metadata": {
    "colab": {
     "base_uri": "https://localhost:8080/"
    },
    "id": "dagCzt5euu_W",
    "outputId": "27465893-3c30-4217-8913-1c71a8457e99",
    "scrolled": true
   },
   "outputs": [
    {
     "data": {
      "text/plain": [
       "Country Name                                  0\n",
       "Country Code                                  0\n",
       "Year                                          0\n",
       "Access to electricity (% of population))    919\n",
       "Population (total)                            3\n",
       "dtype: int64"
      ]
     },
     "execution_count": 30,
     "metadata": {},
     "output_type": "execute_result"
    }
   ],
   "source": [
    "# Check for missing observations\n",
    "\n",
    "df_final.isnull().sum()"
   ]
  },
  {
   "cell_type": "code",
   "execution_count": 31,
   "metadata": {
    "colab": {
     "base_uri": "https://localhost:8080/"
    },
    "id": "Ya0jhVj6uu_X",
    "outputId": "18f6e301-8bf1-471a-8cf4-6c789f167f46"
   },
   "outputs": [
    {
     "data": {
      "text/plain": [
       "Country Name                                 0.000000\n",
       "Country Code                                 0.000000\n",
       "Year                                         0.000000\n",
       "Access to electricity (% of population))    20.810688\n",
       "Population (total)                           0.067935\n",
       "dtype: float64"
      ]
     },
     "execution_count": 31,
     "metadata": {},
     "output_type": "execute_result"
    }
   ],
   "source": [
    "# Check for the percentage of missing observations in each column\n",
    "\n",
    "percent_missing = df_final.isnull().sum() * 100 / len(df_final)\n",
    "percent_missing"
   ]
  },
  {
   "cell_type": "code",
   "execution_count": 32,
   "metadata": {
    "colab": {
     "base_uri": "https://localhost:8080/",
     "height": 267
    },
    "id": "NVJrlvNeVU0P",
    "outputId": "fbba2ac3-74e7-491e-f27e-8e282063cdfd"
   },
   "outputs": [
    {
     "data": {
      "text/html": [
       "<div>\n",
       "<style scoped>\n",
       "    .dataframe tbody tr th:only-of-type {\n",
       "        vertical-align: middle;\n",
       "    }\n",
       "\n",
       "    .dataframe tbody tr th {\n",
       "        vertical-align: top;\n",
       "    }\n",
       "\n",
       "    .dataframe thead th {\n",
       "        text-align: right;\n",
       "    }\n",
       "</style>\n",
       "<table border=\"1\" class=\"dataframe\">\n",
       "  <thead>\n",
       "    <tr style=\"text-align: right;\">\n",
       "      <th></th>\n",
       "      <th>Country Name</th>\n",
       "      <th>Country Code</th>\n",
       "      <th>Year</th>\n",
       "      <th>Access to electricity (% of population))</th>\n",
       "      <th>Population (total)</th>\n",
       "    </tr>\n",
       "  </thead>\n",
       "  <tbody>\n",
       "    <tr>\n",
       "      <th>0</th>\n",
       "      <td>Aruba</td>\n",
       "      <td>ABW</td>\n",
       "      <td>1990</td>\n",
       "      <td>100.000000</td>\n",
       "      <td>62152.0</td>\n",
       "    </tr>\n",
       "    <tr>\n",
       "      <th>1</th>\n",
       "      <td>Aruba</td>\n",
       "      <td>ABW</td>\n",
       "      <td>1991</td>\n",
       "      <td>99.153656</td>\n",
       "      <td>64623.0</td>\n",
       "    </tr>\n",
       "    <tr>\n",
       "      <th>2</th>\n",
       "      <td>Aruba</td>\n",
       "      <td>ABW</td>\n",
       "      <td>1992</td>\n",
       "      <td>99.197128</td>\n",
       "      <td>68240.0</td>\n",
       "    </tr>\n",
       "    <tr>\n",
       "      <th>3</th>\n",
       "      <td>Aruba</td>\n",
       "      <td>ABW</td>\n",
       "      <td>1993</td>\n",
       "      <td>99.239914</td>\n",
       "      <td>72495.0</td>\n",
       "    </tr>\n",
       "    <tr>\n",
       "      <th>4</th>\n",
       "      <td>Aruba</td>\n",
       "      <td>ABW</td>\n",
       "      <td>1994</td>\n",
       "      <td>100.000000</td>\n",
       "      <td>76705.0</td>\n",
       "    </tr>\n",
       "  </tbody>\n",
       "</table>\n",
       "</div>"
      ],
      "text/plain": [
       "  Country Name Country Code  Year  Access to electricity (% of population))  \\\n",
       "0        Aruba          ABW  1990                                100.000000   \n",
       "1        Aruba          ABW  1991                                 99.153656   \n",
       "2        Aruba          ABW  1992                                 99.197128   \n",
       "3        Aruba          ABW  1993                                 99.239914   \n",
       "4        Aruba          ABW  1994                                100.000000   \n",
       "\n",
       "   Population (total)  \n",
       "0             62152.0  \n",
       "1             64623.0  \n",
       "2             68240.0  \n",
       "3             72495.0  \n",
       "4             76705.0  "
      ]
     },
     "execution_count": 32,
     "metadata": {},
     "output_type": "execute_result"
    }
   ],
   "source": [
    "# Dropping missing observations from the dataframe and creating a new dataframe to hold the the updated data\n",
    "\n",
    "df_final_1 = df_final.dropna(inplace=False)\n",
    "df_final_1.head()"
   ]
  },
  {
   "cell_type": "code",
   "execution_count": 33,
   "metadata": {
    "colab": {
     "base_uri": "https://localhost:8080/"
    },
    "id": "kK_QSNi_VU0Q",
    "outputId": "01ef85d6-1a23-44fa-a184-51ff158d3b33"
   },
   "outputs": [
    {
     "data": {
      "text/plain": [
       "(3494, 5)"
      ]
     },
     "execution_count": 33,
     "metadata": {},
     "output_type": "execute_result"
    }
   ],
   "source": [
    "# Check the number of rows and columns in the newly created dataframe\n",
    "\n",
    "df_final_1.shape"
   ]
  },
  {
   "cell_type": "code",
   "execution_count": 34,
   "metadata": {
    "colab": {
     "base_uri": "https://localhost:8080/"
    },
    "id": "f2MTT-5rVU0S",
    "outputId": "4b8a229d-2f31-4681-ab16-2cc1d9d98b84"
   },
   "outputs": [
    {
     "data": {
      "text/plain": [
       "Country Name                                 182\n",
       "Country Code                                 182\n",
       "Year                                          21\n",
       "Access to electricity (% of population))    1586\n",
       "Population (total)                          3073\n",
       "dtype: int64"
      ]
     },
     "execution_count": 34,
     "metadata": {},
     "output_type": "execute_result"
    }
   ],
   "source": [
    "# Check for unique entities\n",
    "\n",
    "df_final_1.nunique()"
   ]
  },
  {
   "cell_type": "code",
   "execution_count": 35,
   "metadata": {
    "colab": {
     "base_uri": "https://localhost:8080/",
     "height": 300
    },
    "id": "PRbIYu0aVU0T",
    "outputId": "1a25dd9c-6c21-4772-88ed-46b5d6332b40"
   },
   "outputs": [
    {
     "data": {
      "text/html": [
       "<div>\n",
       "<style scoped>\n",
       "    .dataframe tbody tr th:only-of-type {\n",
       "        vertical-align: middle;\n",
       "    }\n",
       "\n",
       "    .dataframe tbody tr th {\n",
       "        vertical-align: top;\n",
       "    }\n",
       "\n",
       "    .dataframe thead th {\n",
       "        text-align: right;\n",
       "    }\n",
       "</style>\n",
       "<table border=\"1\" class=\"dataframe\">\n",
       "  <thead>\n",
       "    <tr style=\"text-align: right;\">\n",
       "      <th></th>\n",
       "      <th>Access to electricity (% of population))</th>\n",
       "      <th>Population (total)</th>\n",
       "    </tr>\n",
       "  </thead>\n",
       "  <tbody>\n",
       "    <tr>\n",
       "      <th>count</th>\n",
       "      <td>3494.000000</td>\n",
       "      <td>3.494000e+03</td>\n",
       "    </tr>\n",
       "    <tr>\n",
       "      <th>mean</th>\n",
       "      <td>79.286402</td>\n",
       "      <td>2.769395e+07</td>\n",
       "    </tr>\n",
       "    <tr>\n",
       "      <th>std</th>\n",
       "      <td>31.497240</td>\n",
       "      <td>1.141693e+08</td>\n",
       "    </tr>\n",
       "    <tr>\n",
       "      <th>min</th>\n",
       "      <td>0.533899</td>\n",
       "      <td>9.506000e+03</td>\n",
       "    </tr>\n",
       "    <tr>\n",
       "      <th>25%</th>\n",
       "      <td>69.502287</td>\n",
       "      <td>5.797990e+05</td>\n",
       "    </tr>\n",
       "    <tr>\n",
       "      <th>50%</th>\n",
       "      <td>99.258990</td>\n",
       "      <td>5.064509e+06</td>\n",
       "    </tr>\n",
       "    <tr>\n",
       "      <th>75%</th>\n",
       "      <td>100.000000</td>\n",
       "      <td>1.507164e+07</td>\n",
       "    </tr>\n",
       "    <tr>\n",
       "      <th>max</th>\n",
       "      <td>100.000000</td>\n",
       "      <td>1.337705e+09</td>\n",
       "    </tr>\n",
       "  </tbody>\n",
       "</table>\n",
       "</div>"
      ],
      "text/plain": [
       "       Access to electricity (% of population))  Population (total)\n",
       "count                               3494.000000        3.494000e+03\n",
       "mean                                  79.286402        2.769395e+07\n",
       "std                                   31.497240        1.141693e+08\n",
       "min                                    0.533899        9.506000e+03\n",
       "25%                                   69.502287        5.797990e+05\n",
       "50%                                   99.258990        5.064509e+06\n",
       "75%                                  100.000000        1.507164e+07\n",
       "max                                  100.000000        1.337705e+09"
      ]
     },
     "execution_count": 35,
     "metadata": {},
     "output_type": "execute_result"
    }
   ],
   "source": [
    "# Summary Statistics\n",
    "\n",
    "df_final_1.describe()"
   ]
  },
  {
   "cell_type": "markdown",
   "metadata": {
    "id": "YWTti6Q_VU0W"
   },
   "source": [
    "Upon the tractions, we are left with 2592 observations (rows)"
   ]
  },
  {
   "cell_type": "markdown",
   "metadata": {
    "id": "AAZgBn6l2SuN"
   },
   "source": [
    "## Data Grouping\n",
    "\n",
    "Next, we shall group the dataframe by two metrics; **year**, **country name**. This will afford us the opportunity to draw some insights from the created dataframe."
   ]
  },
  {
   "cell_type": "code",
   "execution_count": 85,
   "metadata": {
    "colab": {
     "base_uri": "https://localhost:8080/",
     "height": 206
    },
    "id": "INDyz-qy2SuO",
    "outputId": "ffa547c6-118e-4421-a735-9e85adf24605"
   },
   "outputs": [
    {
     "data": {
      "text/html": [
       "<div>\n",
       "<style scoped>\n",
       "    .dataframe tbody tr th:only-of-type {\n",
       "        vertical-align: middle;\n",
       "    }\n",
       "\n",
       "    .dataframe tbody tr th {\n",
       "        vertical-align: top;\n",
       "    }\n",
       "\n",
       "    .dataframe thead th {\n",
       "        text-align: right;\n",
       "    }\n",
       "</style>\n",
       "<table border=\"1\" class=\"dataframe\">\n",
       "  <thead>\n",
       "    <tr style=\"text-align: right;\">\n",
       "      <th></th>\n",
       "      <th>Year</th>\n",
       "      <th>Access to electricity (% of population))</th>\n",
       "      <th>Population (total)</th>\n",
       "    </tr>\n",
       "  </thead>\n",
       "  <tbody>\n",
       "    <tr>\n",
       "      <th>0</th>\n",
       "      <td>1990</td>\n",
       "      <td>95.801673</td>\n",
       "      <td>1.460834e+07</td>\n",
       "    </tr>\n",
       "    <tr>\n",
       "      <th>1</th>\n",
       "      <td>1991</td>\n",
       "      <td>90.644320</td>\n",
       "      <td>1.681708e+07</td>\n",
       "    </tr>\n",
       "    <tr>\n",
       "      <th>2</th>\n",
       "      <td>1992</td>\n",
       "      <td>86.677032</td>\n",
       "      <td>1.732945e+07</td>\n",
       "    </tr>\n",
       "    <tr>\n",
       "      <th>3</th>\n",
       "      <td>1993</td>\n",
       "      <td>84.219742</td>\n",
       "      <td>2.614312e+07</td>\n",
       "    </tr>\n",
       "    <tr>\n",
       "      <th>4</th>\n",
       "      <td>1994</td>\n",
       "      <td>83.123632</td>\n",
       "      <td>2.561210e+07</td>\n",
       "    </tr>\n",
       "  </tbody>\n",
       "</table>\n",
       "</div>"
      ],
      "text/plain": [
       "   Year  Access to electricity (% of population))  Population (total)\n",
       "0  1990                                 95.801673        1.460834e+07\n",
       "1  1991                                 90.644320        1.681708e+07\n",
       "2  1992                                 86.677032        1.732945e+07\n",
       "3  1993                                 84.219742        2.614312e+07\n",
       "4  1994                                 83.123632        2.561210e+07"
      ]
     },
     "execution_count": 85,
     "metadata": {},
     "output_type": "execute_result"
    }
   ],
   "source": [
    "# Grouping by year\n",
    "\n",
    "df_final_extracted_year = df_final_1[['Country Name', 'Country Code', 'Year', 'Access to electricity (% of population))', 'Population (total)']].groupby('Year', as_index=False).mean()\n",
    "df_final_extracted_year.head()"
   ]
  },
  {
   "cell_type": "code",
   "execution_count": 38,
   "metadata": {
    "colab": {
     "base_uri": "https://localhost:8080/",
     "height": 300
    },
    "id": "dCi5Tm8hYTkw",
    "outputId": "4daf9e8e-c1d5-451b-d121-3bd712aba0c8"
   },
   "outputs": [
    {
     "data": {
      "text/html": [
       "<div>\n",
       "<style scoped>\n",
       "    .dataframe tbody tr th:only-of-type {\n",
       "        vertical-align: middle;\n",
       "    }\n",
       "\n",
       "    .dataframe tbody tr th {\n",
       "        vertical-align: top;\n",
       "    }\n",
       "\n",
       "    .dataframe thead th {\n",
       "        text-align: right;\n",
       "    }\n",
       "</style>\n",
       "<table border=\"1\" class=\"dataframe\">\n",
       "  <thead>\n",
       "    <tr style=\"text-align: right;\">\n",
       "      <th></th>\n",
       "      <th>Access to electricity (% of population))</th>\n",
       "      <th>Population (total)</th>\n",
       "    </tr>\n",
       "  </thead>\n",
       "  <tbody>\n",
       "    <tr>\n",
       "      <th>count</th>\n",
       "      <td>21.000000</td>\n",
       "      <td>2.100000e+01</td>\n",
       "    </tr>\n",
       "    <tr>\n",
       "      <th>mean</th>\n",
       "      <td>80.458711</td>\n",
       "      <td>2.701828e+07</td>\n",
       "    </tr>\n",
       "    <tr>\n",
       "      <th>std</th>\n",
       "      <td>5.100586</td>\n",
       "      <td>5.483479e+06</td>\n",
       "    </tr>\n",
       "    <tr>\n",
       "      <th>min</th>\n",
       "      <td>76.268540</td>\n",
       "      <td>1.460834e+07</td>\n",
       "    </tr>\n",
       "    <tr>\n",
       "      <th>25%</th>\n",
       "      <td>77.278993</td>\n",
       "      <td>2.422283e+07</td>\n",
       "    </tr>\n",
       "    <tr>\n",
       "      <th>50%</th>\n",
       "      <td>78.277611</td>\n",
       "      <td>3.053149e+07</td>\n",
       "    </tr>\n",
       "    <tr>\n",
       "      <th>75%</th>\n",
       "      <td>81.993133</td>\n",
       "      <td>3.114268e+07</td>\n",
       "    </tr>\n",
       "    <tr>\n",
       "      <th>max</th>\n",
       "      <td>95.801673</td>\n",
       "      <td>3.277562e+07</td>\n",
       "    </tr>\n",
       "  </tbody>\n",
       "</table>\n",
       "</div>"
      ],
      "text/plain": [
       "       Access to electricity (% of population))  Population (total)\n",
       "count                                 21.000000        2.100000e+01\n",
       "mean                                  80.458711        2.701828e+07\n",
       "std                                    5.100586        5.483479e+06\n",
       "min                                   76.268540        1.460834e+07\n",
       "25%                                   77.278993        2.422283e+07\n",
       "50%                                   78.277611        3.053149e+07\n",
       "75%                                   81.993133        3.114268e+07\n",
       "max                                   95.801673        3.277562e+07"
      ]
     },
     "execution_count": 38,
     "metadata": {},
     "output_type": "execute_result"
    }
   ],
   "source": [
    "# Summary Statistics\n",
    "\n",
    "df_final_extracted_year.describe()"
   ]
  },
  {
   "cell_type": "code",
   "execution_count": 39,
   "metadata": {
    "colab": {
     "base_uri": "https://localhost:8080/",
     "height": 404
    },
    "id": "02KKUOpiVU0Y",
    "outputId": "781e4136-cc69-4a2f-bcae-330629cc66fd"
   },
   "outputs": [
    {
     "data": {
      "image/png": "[encoded data removed]",
      "text/plain": [
       "<Figure size 432x432 with 1 Axes>"
      ]
     },
     "metadata": {
      "needs_background": "light"
     },
     "output_type": "display_data"
    }
   ],
   "source": [
    "# Line chart of Arable Land\n",
    "\n",
    "df_final_extracted_year.plot(x='Year', y=['Access to electricity (% of population))'], kind='line', figsize=(6,6), title='Line Plot of Accessibility to Electricity by Year')\n",
    "\n",
    "plt.legend()\n",
    "plt.show()"
   ]
  },
  {
   "cell_type": "code",
   "execution_count": 40,
   "metadata": {
    "colab": {
     "base_uri": "https://localhost:8080/",
     "height": 404
    },
    "id": "e01nomwSVU0a",
    "outputId": "089714f5-f6a1-4188-c573-b6a2864073df"
   },
   "outputs": [
    {
     "data": {
      "image/png": "[encoded data removed]",
      "text/plain": [
       "<Figure size 432x432 with 1 Axes>"
      ]
     },
     "metadata": {
      "needs_background": "light"
     },
     "output_type": "display_data"
    }
   ],
   "source": [
    "# Line chart of Forest Area\n",
    "\n",
    "df_final_extracted_year.plot(x='Year', y=['Population (total)'], kind='line', figsize=(6,6), color=\"red\", title='Line Plot of Total Population by Year')\n",
    "\n",
    "plt.legend()\n",
    "plt.show()"
   ]
  },
  {
   "cell_type": "code",
   "execution_count": 41,
   "metadata": {
    "colab": {
     "base_uri": "https://localhost:8080/",
     "height": 206
    },
    "id": "0G0PepqIVU0a",
    "outputId": "68dfd6fe-b1ce-4cf2-af53-d3d18c606efd"
   },
   "outputs": [
    {
     "data": {
      "text/html": [
       "<div>\n",
       "<style scoped>\n",
       "    .dataframe tbody tr th:only-of-type {\n",
       "        vertical-align: middle;\n",
       "    }\n",
       "\n",
       "    .dataframe tbody tr th {\n",
       "        vertical-align: top;\n",
       "    }\n",
       "\n",
       "    .dataframe thead th {\n",
       "        text-align: right;\n",
       "    }\n",
       "</style>\n",
       "<table border=\"1\" class=\"dataframe\">\n",
       "  <thead>\n",
       "    <tr style=\"text-align: right;\">\n",
       "      <th></th>\n",
       "      <th>Year</th>\n",
       "      <th>Access to electricity (% of population))</th>\n",
       "      <th>Population (total)</th>\n",
       "    </tr>\n",
       "  </thead>\n",
       "  <tbody>\n",
       "    <tr>\n",
       "      <th>0</th>\n",
       "      <td>1990</td>\n",
       "      <td>95.801673</td>\n",
       "      <td>1.460834e+07</td>\n",
       "    </tr>\n",
       "    <tr>\n",
       "      <th>1</th>\n",
       "      <td>1991</td>\n",
       "      <td>90.644320</td>\n",
       "      <td>1.681708e+07</td>\n",
       "    </tr>\n",
       "    <tr>\n",
       "      <th>2</th>\n",
       "      <td>1992</td>\n",
       "      <td>86.677032</td>\n",
       "      <td>1.732945e+07</td>\n",
       "    </tr>\n",
       "    <tr>\n",
       "      <th>3</th>\n",
       "      <td>1993</td>\n",
       "      <td>84.219742</td>\n",
       "      <td>2.614312e+07</td>\n",
       "    </tr>\n",
       "    <tr>\n",
       "      <th>4</th>\n",
       "      <td>1994</td>\n",
       "      <td>83.123632</td>\n",
       "      <td>2.561210e+07</td>\n",
       "    </tr>\n",
       "  </tbody>\n",
       "</table>\n",
       "</div>"
      ],
      "text/plain": [
       "   Year  Access to electricity (% of population))  Population (total)\n",
       "0  1990                                 95.801673        1.460834e+07\n",
       "1  1991                                 90.644320        1.681708e+07\n",
       "2  1992                                 86.677032        1.732945e+07\n",
       "3  1993                                 84.219742        2.614312e+07\n",
       "4  1994                                 83.123632        2.561210e+07"
      ]
     },
     "execution_count": 41,
     "metadata": {},
     "output_type": "execute_result"
    }
   ],
   "source": [
    "# View top 5 countries by Arable land\n",
    "\n",
    "df_final_extracted_year.nlargest(5, 'Access to electricity (% of population))')"
   ]
  },
  {
   "cell_type": "code",
   "execution_count": 42,
   "metadata": {
    "colab": {
     "base_uri": "https://localhost:8080/",
     "height": 206
    },
    "id": "qN19jVgZVU0b",
    "outputId": "1859c50e-89df-42ff-ab4e-fd5b654b2656"
   },
   "outputs": [
    {
     "data": {
      "text/html": [
       "<div>\n",
       "<style scoped>\n",
       "    .dataframe tbody tr th:only-of-type {\n",
       "        vertical-align: middle;\n",
       "    }\n",
       "\n",
       "    .dataframe tbody tr th {\n",
       "        vertical-align: top;\n",
       "    }\n",
       "\n",
       "    .dataframe thead th {\n",
       "        text-align: right;\n",
       "    }\n",
       "</style>\n",
       "<table border=\"1\" class=\"dataframe\">\n",
       "  <thead>\n",
       "    <tr style=\"text-align: right;\">\n",
       "      <th></th>\n",
       "      <th>Year</th>\n",
       "      <th>Access to electricity (% of population))</th>\n",
       "      <th>Population (total)</th>\n",
       "    </tr>\n",
       "  </thead>\n",
       "  <tbody>\n",
       "    <tr>\n",
       "      <th>20</th>\n",
       "      <td>2010</td>\n",
       "      <td>79.377156</td>\n",
       "      <td>3.277562e+07</td>\n",
       "    </tr>\n",
       "    <tr>\n",
       "      <th>19</th>\n",
       "      <td>2009</td>\n",
       "      <td>78.716942</td>\n",
       "      <td>3.217703e+07</td>\n",
       "    </tr>\n",
       "    <tr>\n",
       "      <th>18</th>\n",
       "      <td>2008</td>\n",
       "      <td>78.734953</td>\n",
       "      <td>3.194783e+07</td>\n",
       "    </tr>\n",
       "    <tr>\n",
       "      <th>16</th>\n",
       "      <td>2006</td>\n",
       "      <td>77.986447</td>\n",
       "      <td>3.132856e+07</td>\n",
       "    </tr>\n",
       "    <tr>\n",
       "      <th>17</th>\n",
       "      <td>2007</td>\n",
       "      <td>78.274987</td>\n",
       "      <td>3.127165e+07</td>\n",
       "    </tr>\n",
       "  </tbody>\n",
       "</table>\n",
       "</div>"
      ],
      "text/plain": [
       "    Year  Access to electricity (% of population))  Population (total)\n",
       "20  2010                                 79.377156        3.277562e+07\n",
       "19  2009                                 78.716942        3.217703e+07\n",
       "18  2008                                 78.734953        3.194783e+07\n",
       "16  2006                                 77.986447        3.132856e+07\n",
       "17  2007                                 78.274987        3.127165e+07"
      ]
     },
     "execution_count": 42,
     "metadata": {},
     "output_type": "execute_result"
    }
   ],
   "source": [
    "# View top 5 countries by Forest area\n",
    "\n",
    "df_final_extracted_year.nlargest(5, 'Population (total)')"
   ]
  },
  {
   "cell_type": "code",
   "execution_count": 43,
   "metadata": {
    "colab": {
     "base_uri": "https://localhost:8080/",
     "height": 156
    },
    "id": "htHkSFg-VU0f",
    "outputId": "5ace9960-e180-4adb-e4a8-f6034ff3b007"
   },
   "outputs": [
    {
     "data": {
      "text/html": [
       "<div>\n",
       "<style scoped>\n",
       "    .dataframe tbody tr th:only-of-type {\n",
       "        vertical-align: middle;\n",
       "    }\n",
       "\n",
       "    .dataframe tbody tr th {\n",
       "        vertical-align: top;\n",
       "    }\n",
       "\n",
       "    .dataframe thead th {\n",
       "        text-align: right;\n",
       "    }\n",
       "</style>\n",
       "<table border=\"1\" class=\"dataframe\">\n",
       "  <thead>\n",
       "    <tr style=\"text-align: right;\">\n",
       "      <th></th>\n",
       "      <th>Access to electricity (% of population))</th>\n",
       "      <th>Population (total)</th>\n",
       "    </tr>\n",
       "  </thead>\n",
       "  <tbody>\n",
       "    <tr>\n",
       "      <th>Access to electricity (% of population))</th>\n",
       "      <td>1.000000</td>\n",
       "      <td>-0.830596</td>\n",
       "    </tr>\n",
       "    <tr>\n",
       "      <th>Population (total)</th>\n",
       "      <td>-0.830596</td>\n",
       "      <td>1.000000</td>\n",
       "    </tr>\n",
       "  </tbody>\n",
       "</table>\n",
       "</div>"
      ],
      "text/plain": [
       "                                          Access to electricity (% of population))  \\\n",
       "Access to electricity (% of population))                                  1.000000   \n",
       "Population (total)                                                       -0.830596   \n",
       "\n",
       "                                          Population (total)  \n",
       "Access to electricity (% of population))           -0.830596  \n",
       "Population (total)                                  1.000000  "
      ]
     },
     "execution_count": 43,
     "metadata": {},
     "output_type": "execute_result"
    }
   ],
   "source": [
    "# Check the correlation between the variables (numerical) available in the dataframe\n",
    "\n",
    "df_final_extracted_year.corr()"
   ]
  },
  {
   "cell_type": "markdown",
   "metadata": {
    "id": "VNVSTXR1gvWt"
   },
   "source": [
    "The above shows that when the data is grouped by year, there will be a 83.05% reduction in the percentage of population that had access to electricity as total population (100,000) increases."
   ]
  },
  {
   "cell_type": "code",
   "execution_count": 44,
   "metadata": {
    "colab": {
     "base_uri": "https://localhost:8080/",
     "height": 547
    },
    "id": "5saOgwvi2SuP",
    "outputId": "e5e2edb4-fc2f-44f9-e93f-fd68694460a3"
   },
   "outputs": [
    {
     "data": {
      "image/png": "[encoded data removed]",
      "text/plain": [
       "<Figure size 1080x720 with 1 Axes>"
      ]
     },
     "metadata": {
      "needs_background": "light"
     },
     "output_type": "display_data"
    }
   ],
   "source": [
    "# Create a bar chart for comparing arable Land and forest area\n",
    "\n",
    "df_final_extracted_year.plot(x='Year', y=['Access to electricity (% of population))'], kind='bar', figsize=(15,10), title='Bar Chart of Access to Electricity by Year')\n",
    "\n",
    "plt.legend()\n",
    "plt.show()"
   ]
  },
  {
   "cell_type": "code",
   "execution_count": 45,
   "metadata": {
    "colab": {
     "base_uri": "https://localhost:8080/",
     "height": 549
    },
    "id": "Gq1va_M7h7jl",
    "outputId": "111b8dd0-21ec-42a3-9d6b-e99389d33ee5"
   },
   "outputs": [
    {
     "data": {
      "image/png": "[encoded data removed]",
      "text/plain": [
       "<Figure size 1080x720 with 1 Axes>"
      ]
     },
     "metadata": {
      "needs_background": "light"
     },
     "output_type": "display_data"
    }
   ],
   "source": [
    "# Create a bar chart for comparing arable Land and forest area\n",
    "\n",
    "df_final_extracted_year.plot(x='Year', y=['Population (total)'], kind='bar', figsize=(15,10), color = 'black', title='Bar Chart of Total Population by Year')\n",
    "\n",
    "plt.legend()\n",
    "plt.show()"
   ]
  },
  {
   "cell_type": "code",
   "execution_count": 46,
   "metadata": {
    "colab": {
     "base_uri": "https://localhost:8080/",
     "height": 206
    },
    "id": "TWiAINLm2SuQ",
    "outputId": "b72ab073-c17f-4da5-ddf5-b30afe62b45e"
   },
   "outputs": [
    {
     "data": {
      "text/html": [
       "<div>\n",
       "<style scoped>\n",
       "    .dataframe tbody tr th:only-of-type {\n",
       "        vertical-align: middle;\n",
       "    }\n",
       "\n",
       "    .dataframe tbody tr th {\n",
       "        vertical-align: top;\n",
       "    }\n",
       "\n",
       "    .dataframe thead th {\n",
       "        text-align: right;\n",
       "    }\n",
       "</style>\n",
       "<table border=\"1\" class=\"dataframe\">\n",
       "  <thead>\n",
       "    <tr style=\"text-align: right;\">\n",
       "      <th></th>\n",
       "      <th>Country Name</th>\n",
       "      <th>Access to electricity (% of population))</th>\n",
       "      <th>Population (total)</th>\n",
       "    </tr>\n",
       "  </thead>\n",
       "  <tbody>\n",
       "    <tr>\n",
       "      <th>0</th>\n",
       "      <td>Afghanistan</td>\n",
       "      <td>35.819586</td>\n",
       "      <td>2.741508e+07</td>\n",
       "    </tr>\n",
       "    <tr>\n",
       "      <th>1</th>\n",
       "      <td>Albania</td>\n",
       "      <td>100.000000</td>\n",
       "      <td>3.099619e+06</td>\n",
       "    </tr>\n",
       "    <tr>\n",
       "      <th>2</th>\n",
       "      <td>Algeria</td>\n",
       "      <td>98.979804</td>\n",
       "      <td>3.534731e+07</td>\n",
       "    </tr>\n",
       "    <tr>\n",
       "      <th>3</th>\n",
       "      <td>Andorra</td>\n",
       "      <td>100.000000</td>\n",
       "      <td>6.894625e+04</td>\n",
       "    </tr>\n",
       "    <tr>\n",
       "      <th>4</th>\n",
       "      <td>Angola</td>\n",
       "      <td>30.730295</td>\n",
       "      <td>1.993998e+07</td>\n",
       "    </tr>\n",
       "  </tbody>\n",
       "</table>\n",
       "</div>"
      ],
      "text/plain": [
       "  Country Name  Access to electricity (% of population))  Population (total)\n",
       "0  Afghanistan                                 35.819586        2.741508e+07\n",
       "1      Albania                                100.000000        3.099619e+06\n",
       "2      Algeria                                 98.979804        3.534731e+07\n",
       "3      Andorra                                100.000000        6.894625e+04\n",
       "4       Angola                                 30.730295        1.993998e+07"
      ]
     },
     "execution_count": 46,
     "metadata": {},
     "output_type": "execute_result"
    }
   ],
   "source": [
    "# Grouping by country\n",
    "\n",
    "df_final_extracted_country = df_final_1[['Country Name', 'Country Code', 'Year', \n",
    "                                                 'Access to electricity (% of population))', 'Population (total)', \n",
    "                                                 ]].groupby('Country Name', as_index=False).mean()\n",
    "df_final_extracted_country.head()"
   ]
  },
  {
   "cell_type": "code",
   "execution_count": 47,
   "metadata": {
    "colab": {
     "base_uri": "https://localhost:8080/",
     "height": 300
    },
    "id": "qv1CunxVZKHz",
    "outputId": "7c2060bb-41a6-4f29-9f90-febaf1b12306"
   },
   "outputs": [
    {
     "data": {
      "text/html": [
       "<div>\n",
       "<style scoped>\n",
       "    .dataframe tbody tr th:only-of-type {\n",
       "        vertical-align: middle;\n",
       "    }\n",
       "\n",
       "    .dataframe tbody tr th {\n",
       "        vertical-align: top;\n",
       "    }\n",
       "\n",
       "    .dataframe thead th {\n",
       "        text-align: right;\n",
       "    }\n",
       "</style>\n",
       "<table border=\"1\" class=\"dataframe\">\n",
       "  <thead>\n",
       "    <tr style=\"text-align: right;\">\n",
       "      <th></th>\n",
       "      <th>Access to electricity (% of population))</th>\n",
       "      <th>Population (total)</th>\n",
       "    </tr>\n",
       "  </thead>\n",
       "  <tbody>\n",
       "    <tr>\n",
       "      <th>count</th>\n",
       "      <td>182.000000</td>\n",
       "      <td>1.820000e+02</td>\n",
       "    </tr>\n",
       "    <tr>\n",
       "      <th>mean</th>\n",
       "      <td>75.592086</td>\n",
       "      <td>2.980063e+07</td>\n",
       "    </tr>\n",
       "    <tr>\n",
       "      <th>std</th>\n",
       "      <td>33.171389</td>\n",
       "      <td>1.272608e+08</td>\n",
       "    </tr>\n",
       "    <tr>\n",
       "      <th>min</th>\n",
       "      <td>2.250000</td>\n",
       "      <td>1.008567e+04</td>\n",
       "    </tr>\n",
       "    <tr>\n",
       "      <th>25%</th>\n",
       "      <td>50.176867</td>\n",
       "      <td>7.428341e+05</td>\n",
       "    </tr>\n",
       "    <tr>\n",
       "      <th>50%</th>\n",
       "      <td>96.907236</td>\n",
       "      <td>5.254640e+06</td>\n",
       "    </tr>\n",
       "    <tr>\n",
       "      <th>75%</th>\n",
       "      <td>100.000000</td>\n",
       "      <td>1.582824e+07</td>\n",
       "    </tr>\n",
       "    <tr>\n",
       "      <th>max</th>\n",
       "      <td>100.000000</td>\n",
       "      <td>1.302329e+09</td>\n",
       "    </tr>\n",
       "  </tbody>\n",
       "</table>\n",
       "</div>"
      ],
      "text/plain": [
       "       Access to electricity (% of population))  Population (total)\n",
       "count                                182.000000        1.820000e+02\n",
       "mean                                  75.592086        2.980063e+07\n",
       "std                                   33.171389        1.272608e+08\n",
       "min                                    2.250000        1.008567e+04\n",
       "25%                                   50.176867        7.428341e+05\n",
       "50%                                   96.907236        5.254640e+06\n",
       "75%                                  100.000000        1.582824e+07\n",
       "max                                  100.000000        1.302329e+09"
      ]
     },
     "execution_count": 47,
     "metadata": {},
     "output_type": "execute_result"
    }
   ],
   "source": [
    "# Summary Statistics\n",
    "\n",
    "df_final_extracted_country.describe()"
   ]
  },
  {
   "cell_type": "code",
   "execution_count": 48,
   "metadata": {
    "colab": {
     "base_uri": "https://localhost:8080/",
     "height": 156
    },
    "id": "3u5McXaCVU0h",
    "outputId": "375c8e72-2230-4ea8-ba02-028cd7a126cd"
   },
   "outputs": [
    {
     "data": {
      "text/html": [
       "<div>\n",
       "<style scoped>\n",
       "    .dataframe tbody tr th:only-of-type {\n",
       "        vertical-align: middle;\n",
       "    }\n",
       "\n",
       "    .dataframe tbody tr th {\n",
       "        vertical-align: top;\n",
       "    }\n",
       "\n",
       "    .dataframe thead th {\n",
       "        text-align: right;\n",
       "    }\n",
       "</style>\n",
       "<table border=\"1\" class=\"dataframe\">\n",
       "  <thead>\n",
       "    <tr style=\"text-align: right;\">\n",
       "      <th></th>\n",
       "      <th>Access to electricity (% of population))</th>\n",
       "      <th>Population (total)</th>\n",
       "    </tr>\n",
       "  </thead>\n",
       "  <tbody>\n",
       "    <tr>\n",
       "      <th>Access to electricity (% of population))</th>\n",
       "      <td>1.000000</td>\n",
       "      <td>0.016902</td>\n",
       "    </tr>\n",
       "    <tr>\n",
       "      <th>Population (total)</th>\n",
       "      <td>0.016902</td>\n",
       "      <td>1.000000</td>\n",
       "    </tr>\n",
       "  </tbody>\n",
       "</table>\n",
       "</div>"
      ],
      "text/plain": [
       "                                          Access to electricity (% of population))  \\\n",
       "Access to electricity (% of population))                                  1.000000   \n",
       "Population (total)                                                        0.016902   \n",
       "\n",
       "                                          Population (total)  \n",
       "Access to electricity (% of population))            0.016902  \n",
       "Population (total)                                  1.000000  "
      ]
     },
     "execution_count": 48,
     "metadata": {},
     "output_type": "execute_result"
    }
   ],
   "source": [
    "# Check for the correlation\n",
    "\n",
    "df_final_extracted_country.corr()"
   ]
  },
  {
   "cell_type": "markdown",
   "metadata": {
    "id": "BKD2LiAIitDg"
   },
   "source": [
    "The above shows that when the data is grouped by country, there will be an increment by about 2% when total population increases."
   ]
  },
  {
   "cell_type": "code",
   "execution_count": 49,
   "metadata": {
    "colab": {
     "base_uri": "https://localhost:8080/",
     "height": 206
    },
    "id": "__wm0Ibs2SuQ",
    "outputId": "c9038d54-f368-4858-8404-0c3279995c19"
   },
   "outputs": [
    {
     "data": {
      "text/html": [
       "<div>\n",
       "<style scoped>\n",
       "    .dataframe tbody tr th:only-of-type {\n",
       "        vertical-align: middle;\n",
       "    }\n",
       "\n",
       "    .dataframe tbody tr th {\n",
       "        vertical-align: top;\n",
       "    }\n",
       "\n",
       "    .dataframe thead th {\n",
       "        text-align: right;\n",
       "    }\n",
       "</style>\n",
       "<table border=\"1\" class=\"dataframe\">\n",
       "  <thead>\n",
       "    <tr style=\"text-align: right;\">\n",
       "      <th></th>\n",
       "      <th>Country Name</th>\n",
       "      <th>Access to electricity (% of population))</th>\n",
       "      <th>Population (total)</th>\n",
       "    </tr>\n",
       "  </thead>\n",
       "  <tbody>\n",
       "    <tr>\n",
       "      <th>1</th>\n",
       "      <td>Albania</td>\n",
       "      <td>100.0</td>\n",
       "      <td>3.099619e+06</td>\n",
       "    </tr>\n",
       "    <tr>\n",
       "      <th>3</th>\n",
       "      <td>Andorra</td>\n",
       "      <td>100.0</td>\n",
       "      <td>6.894625e+04</td>\n",
       "    </tr>\n",
       "    <tr>\n",
       "      <th>9</th>\n",
       "      <td>Australia</td>\n",
       "      <td>100.0</td>\n",
       "      <td>1.921539e+07</td>\n",
       "    </tr>\n",
       "    <tr>\n",
       "      <th>10</th>\n",
       "      <td>Austria</td>\n",
       "      <td>100.0</td>\n",
       "      <td>8.047475e+06</td>\n",
       "    </tr>\n",
       "    <tr>\n",
       "      <th>15</th>\n",
       "      <td>Belarus</td>\n",
       "      <td>100.0</td>\n",
       "      <td>9.937421e+06</td>\n",
       "    </tr>\n",
       "  </tbody>\n",
       "</table>\n",
       "</div>"
      ],
      "text/plain": [
       "   Country Name  Access to electricity (% of population))  Population (total)\n",
       "1       Albania                                     100.0        3.099619e+06\n",
       "3       Andorra                                     100.0        6.894625e+04\n",
       "9     Australia                                     100.0        1.921539e+07\n",
       "10      Austria                                     100.0        8.047475e+06\n",
       "15      Belarus                                     100.0        9.937421e+06"
      ]
     },
     "execution_count": 49,
     "metadata": {},
     "output_type": "execute_result"
    }
   ],
   "source": [
    "# Create a dataframe for the top 5 countries by Arable land\n",
    "\n",
    "df_final_extracted_country_arable_5 = df_final_extracted_country.nlargest(5, 'Access to electricity (% of population))')\n",
    "df_final_extracted_country_arable_5.head()"
   ]
  },
  {
   "cell_type": "code",
   "execution_count": 50,
   "metadata": {
    "colab": {
     "base_uri": "https://localhost:8080/",
     "height": 563
    },
    "id": "vRhhBA522SuR",
    "outputId": "aac453a5-aaf0-40d5-d74e-d15f0e4f376f"
   },
   "outputs": [
    {
     "data": {
      "image/png": "[encoded data removed]",
      "text/plain": [
       "<Figure size 1080x720 with 1 Axes>"
      ]
     },
     "metadata": {
      "needs_background": "light"
     },
     "output_type": "display_data"
    }
   ],
   "source": [
    "# Plot a bar chart for the top 5 countries by arable land\n",
    "df_final_extracted_country_arable_5.plot(x='Country Name', y=['Access to electricity (% of population))'], kind='bar', figsize=(15,10), color='g', title='Bar Chart of Accessibility to Electricity')\n",
    "plt.legend()\n",
    "plt.show()"
   ]
  },
  {
   "cell_type": "code",
   "execution_count": 51,
   "metadata": {
    "colab": {
     "base_uri": "https://localhost:8080/",
     "height": 206
    },
    "id": "QND0D3lk2SuS",
    "outputId": "ef3f2f25-1ad5-4942-addd-64f4dd4cbce1"
   },
   "outputs": [
    {
     "data": {
      "text/html": [
       "<div>\n",
       "<style scoped>\n",
       "    .dataframe tbody tr th:only-of-type {\n",
       "        vertical-align: middle;\n",
       "    }\n",
       "\n",
       "    .dataframe tbody tr th {\n",
       "        vertical-align: top;\n",
       "    }\n",
       "\n",
       "    .dataframe thead th {\n",
       "        text-align: right;\n",
       "    }\n",
       "</style>\n",
       "<table border=\"1\" class=\"dataframe\">\n",
       "  <thead>\n",
       "    <tr style=\"text-align: right;\">\n",
       "      <th></th>\n",
       "      <th>Country Name</th>\n",
       "      <th>Access to electricity (% of population))</th>\n",
       "      <th>Population (total)</th>\n",
       "    </tr>\n",
       "  </thead>\n",
       "  <tbody>\n",
       "    <tr>\n",
       "      <th>36</th>\n",
       "      <td>China</td>\n",
       "      <td>98.242003</td>\n",
       "      <td>1.302329e+09</td>\n",
       "    </tr>\n",
       "    <tr>\n",
       "      <th>75</th>\n",
       "      <td>India</td>\n",
       "      <td>60.880308</td>\n",
       "      <td>1.073867e+09</td>\n",
       "    </tr>\n",
       "    <tr>\n",
       "      <th>76</th>\n",
       "      <td>Indonesia</td>\n",
       "      <td>80.241203</td>\n",
       "      <td>2.121338e+08</td>\n",
       "    </tr>\n",
       "    <tr>\n",
       "      <th>23</th>\n",
       "      <td>Brazil</td>\n",
       "      <td>94.524370</td>\n",
       "      <td>1.733288e+08</td>\n",
       "    </tr>\n",
       "    <tr>\n",
       "      <th>126</th>\n",
       "      <td>Pakistan</td>\n",
       "      <td>70.549500</td>\n",
       "      <td>1.527726e+08</td>\n",
       "    </tr>\n",
       "  </tbody>\n",
       "</table>\n",
       "</div>"
      ],
      "text/plain": [
       "    Country Name  Access to electricity (% of population))  Population (total)\n",
       "36         China                                 98.242003        1.302329e+09\n",
       "75         India                                 60.880308        1.073867e+09\n",
       "76     Indonesia                                 80.241203        2.121338e+08\n",
       "23        Brazil                                 94.524370        1.733288e+08\n",
       "126     Pakistan                                 70.549500        1.527726e+08"
      ]
     },
     "execution_count": 51,
     "metadata": {},
     "output_type": "execute_result"
    }
   ],
   "source": [
    "df_final_extracted_country_population_5 = df_final_extracted_country.nlargest(5, 'Population (total)')\n",
    "df_final_extracted_country_population_5.head()"
   ]
  },
  {
   "cell_type": "code",
   "execution_count": 52,
   "metadata": {
    "colab": {
     "base_uri": "https://localhost:8080/",
     "height": 585
    },
    "id": "h2MQGwH22SuS",
    "outputId": "e9cada0b-f00a-4082-b91b-63874251512b"
   },
   "outputs": [
    {
     "data": {
      "text/plain": [
       "<AxesSubplot:title={'center':'Bar Chart of Accessibility to Electricity'}, xlabel='Country Name'>"
      ]
     },
     "execution_count": 52,
     "metadata": {},
     "output_type": "execute_result"
    },
    {
     "data": {
      "image/png": "[encoded data removed]",
      "text/plain": [
       "<Figure size 1080x720 with 1 Axes>"
      ]
     },
     "metadata": {
      "needs_background": "light"
     },
     "output_type": "display_data"
    }
   ],
   "source": [
    "# Plot a bar chart for the top 5 countries by forest area\n",
    "c = ['red', 'yellow', 'black', 'blue', 'orange']\n",
    "df_final_extracted_country_population_5.plot.bar(x='Country Name', y='Access to electricity (% of population))', color=['red', 'yellow', 'black', 'blue', 'orange'], figsize=(15,10), title='Bar Chart of Accessibility to Electricity')\n"
   ]
  },
  {
   "cell_type": "markdown",
   "metadata": {
    "id": "1DE05svpBhZX"
   },
   "source": [
    "Next, we shall pick three notable African countries and visualize their data. The selected countries are:\n",
    "\n",
    "1. China\n",
    "2. India\n",
    "3. Indonessia"
   ]
  },
  {
   "cell_type": "code",
   "execution_count": 53,
   "metadata": {
    "colab": {
     "base_uri": "https://localhost:8080/",
     "height": 267
    },
    "id": "DFB5Br6Xuu_j",
    "outputId": "7bc9177d-f8f7-4607-e2b4-52de1a1a7bcf"
   },
   "outputs": [
    {
     "data": {
      "text/html": [
       "<div>\n",
       "<style scoped>\n",
       "    .dataframe tbody tr th:only-of-type {\n",
       "        vertical-align: middle;\n",
       "    }\n",
       "\n",
       "    .dataframe tbody tr th {\n",
       "        vertical-align: top;\n",
       "    }\n",
       "\n",
       "    .dataframe thead th {\n",
       "        text-align: right;\n",
       "    }\n",
       "</style>\n",
       "<table border=\"1\" class=\"dataframe\">\n",
       "  <thead>\n",
       "    <tr style=\"text-align: right;\">\n",
       "      <th></th>\n",
       "      <th>Country Name</th>\n",
       "      <th>Country Code</th>\n",
       "      <th>Year</th>\n",
       "      <th>Access to electricity (% of population))</th>\n",
       "      <th>Population (total)</th>\n",
       "    </tr>\n",
       "  </thead>\n",
       "  <tbody>\n",
       "    <tr>\n",
       "      <th>805</th>\n",
       "      <td>China</td>\n",
       "      <td>CHN</td>\n",
       "      <td>2000</td>\n",
       "      <td>96.930870</td>\n",
       "      <td>1.262645e+09</td>\n",
       "    </tr>\n",
       "    <tr>\n",
       "      <th>806</th>\n",
       "      <td>China</td>\n",
       "      <td>CHN</td>\n",
       "      <td>2001</td>\n",
       "      <td>97.213219</td>\n",
       "      <td>1.271850e+09</td>\n",
       "    </tr>\n",
       "    <tr>\n",
       "      <th>807</th>\n",
       "      <td>China</td>\n",
       "      <td>CHN</td>\n",
       "      <td>2002</td>\n",
       "      <td>97.487282</td>\n",
       "      <td>1.280400e+09</td>\n",
       "    </tr>\n",
       "    <tr>\n",
       "      <th>808</th>\n",
       "      <td>China</td>\n",
       "      <td>CHN</td>\n",
       "      <td>2003</td>\n",
       "      <td>97.751877</td>\n",
       "      <td>1.288400e+09</td>\n",
       "    </tr>\n",
       "    <tr>\n",
       "      <th>809</th>\n",
       "      <td>China</td>\n",
       "      <td>CHN</td>\n",
       "      <td>2004</td>\n",
       "      <td>98.005836</td>\n",
       "      <td>1.296075e+09</td>\n",
       "    </tr>\n",
       "  </tbody>\n",
       "</table>\n",
       "</div>"
      ],
      "text/plain": [
       "    Country Name Country Code  Year  Access to electricity (% of population))  \\\n",
       "805        China          CHN  2000                                 96.930870   \n",
       "806        China          CHN  2001                                 97.213219   \n",
       "807        China          CHN  2002                                 97.487282   \n",
       "808        China          CHN  2003                                 97.751877   \n",
       "809        China          CHN  2004                                 98.005836   \n",
       "\n",
       "     Population (total)  \n",
       "805        1.262645e+09  \n",
       "806        1.271850e+09  \n",
       "807        1.280400e+09  \n",
       "808        1.288400e+09  \n",
       "809        1.296075e+09  "
      ]
     },
     "execution_count": 53,
     "metadata": {},
     "output_type": "execute_result"
    }
   ],
   "source": [
    "# Dataframe for China\n",
    "\n",
    "df_china = df_final_1[df_final_1['Country Name'] == 'China']\n",
    "df_china.head()"
   ]
  },
  {
   "cell_type": "code",
   "execution_count": 54,
   "metadata": {
    "colab": {
     "base_uri": "https://localhost:8080/",
     "height": 550
    },
    "id": "UVUUb2lzCHL5",
    "outputId": "a330442f-22b6-43d3-d580-eaef48bb4c45"
   },
   "outputs": [
    {
     "data": {
      "text/plain": [
       "<AxesSubplot:title={'center':'Line Plot of Accessibility to Electricity in China'}, xlabel='Year'>"
      ]
     },
     "execution_count": 54,
     "metadata": {},
     "output_type": "execute_result"
    },
    {
     "data": {
      "image/png": "[encoded data removed]",
      "text/plain": [
       "<Figure size 1080x720 with 1 Axes>"
      ]
     },
     "metadata": {
      "needs_background": "light"
     },
     "output_type": "display_data"
    }
   ],
   "source": [
    "# Line plot of Percentage Change in Arable Land vs Percentage Change in Forest Area by Year\n",
    "\n",
    "df_china.plot(kind='line', x='Year', y=['Access to electricity (% of population))'], figsize=(15, 10), color=\"green\", title='Line Plot of Accessibility to Electricity in China')"
   ]
  },
  {
   "cell_type": "code",
   "execution_count": 55,
   "metadata": {
    "colab": {
     "base_uri": "https://localhost:8080/",
     "height": 156
    },
    "id": "008h9IhQw8K1",
    "outputId": "625aeb92-e66c-4dc9-c56d-b9dde28c58b5"
   },
   "outputs": [
    {
     "data": {
      "text/html": [
       "<div>\n",
       "<style scoped>\n",
       "    .dataframe tbody tr th:only-of-type {\n",
       "        vertical-align: middle;\n",
       "    }\n",
       "\n",
       "    .dataframe tbody tr th {\n",
       "        vertical-align: top;\n",
       "    }\n",
       "\n",
       "    .dataframe thead th {\n",
       "        text-align: right;\n",
       "    }\n",
       "</style>\n",
       "<table border=\"1\" class=\"dataframe\">\n",
       "  <thead>\n",
       "    <tr style=\"text-align: right;\">\n",
       "      <th></th>\n",
       "      <th>Access to electricity (% of population))</th>\n",
       "      <th>Population (total)</th>\n",
       "    </tr>\n",
       "  </thead>\n",
       "  <tbody>\n",
       "    <tr>\n",
       "      <th>Access to electricity (% of population))</th>\n",
       "      <td>1.000000</td>\n",
       "      <td>0.994744</td>\n",
       "    </tr>\n",
       "    <tr>\n",
       "      <th>Population (total)</th>\n",
       "      <td>0.994744</td>\n",
       "      <td>1.000000</td>\n",
       "    </tr>\n",
       "  </tbody>\n",
       "</table>\n",
       "</div>"
      ],
      "text/plain": [
       "                                          Access to electricity (% of population))  \\\n",
       "Access to electricity (% of population))                                  1.000000   \n",
       "Population (total)                                                        0.994744   \n",
       "\n",
       "                                          Population (total)  \n",
       "Access to electricity (% of population))            0.994744  \n",
       "Population (total)                                  1.000000  "
      ]
     },
     "execution_count": 55,
     "metadata": {},
     "output_type": "execute_result"
    }
   ],
   "source": [
    "df_china.corr()"
   ]
  },
  {
   "cell_type": "markdown",
   "metadata": {
    "id": "IXNR8KPWDriz"
   },
   "source": [
    "From the above chart, we observed that in China, the percentage of population that has access to electricity has continued to increase over the years. A closer look at the population indicates that China has been doing incredibly well in meeting the electricity needs of people living in the country.\n",
    "\n",
    "The result of the correlation analysis shows that per unit increase in population (100, 000), there is an increase in the percentage of population that has access to electricity by 99.47%."
   ]
  },
  {
   "cell_type": "code",
   "execution_count": 56,
   "metadata": {
    "colab": {
     "base_uri": "https://localhost:8080/",
     "height": 267
    },
    "id": "c3mociN8CwzI",
    "outputId": "7c167b1d-b65f-415c-95fb-99bce938dcce"
   },
   "outputs": [
    {
     "data": {
      "text/html": [
       "<div>\n",
       "<style scoped>\n",
       "    .dataframe tbody tr th:only-of-type {\n",
       "        vertical-align: middle;\n",
       "    }\n",
       "\n",
       "    .dataframe tbody tr th {\n",
       "        vertical-align: top;\n",
       "    }\n",
       "\n",
       "    .dataframe thead th {\n",
       "        text-align: right;\n",
       "    }\n",
       "</style>\n",
       "<table border=\"1\" class=\"dataframe\">\n",
       "  <thead>\n",
       "    <tr style=\"text-align: right;\">\n",
       "      <th></th>\n",
       "      <th>Country Name</th>\n",
       "      <th>Country Code</th>\n",
       "      <th>Year</th>\n",
       "      <th>Access to electricity (% of population))</th>\n",
       "      <th>Population (total)</th>\n",
       "    </tr>\n",
       "  </thead>\n",
       "  <tbody>\n",
       "    <tr>\n",
       "      <th>1827</th>\n",
       "      <td>India</td>\n",
       "      <td>IND</td>\n",
       "      <td>1993</td>\n",
       "      <td>50.900000</td>\n",
       "      <td>9.274039e+08</td>\n",
       "    </tr>\n",
       "    <tr>\n",
       "      <th>1828</th>\n",
       "      <td>India</td>\n",
       "      <td>IND</td>\n",
       "      <td>1994</td>\n",
       "      <td>49.811310</td>\n",
       "      <td>9.456018e+08</td>\n",
       "    </tr>\n",
       "    <tr>\n",
       "      <th>1829</th>\n",
       "      <td>India</td>\n",
       "      <td>IND</td>\n",
       "      <td>1995</td>\n",
       "      <td>51.408775</td>\n",
       "      <td>9.639226e+08</td>\n",
       "    </tr>\n",
       "    <tr>\n",
       "      <th>1830</th>\n",
       "      <td>India</td>\n",
       "      <td>IND</td>\n",
       "      <td>1996</td>\n",
       "      <td>53.003521</td>\n",
       "      <td>9.823652e+08</td>\n",
       "    </tr>\n",
       "    <tr>\n",
       "      <th>1831</th>\n",
       "      <td>India</td>\n",
       "      <td>IND</td>\n",
       "      <td>1997</td>\n",
       "      <td>54.594864</td>\n",
       "      <td>1.000900e+09</td>\n",
       "    </tr>\n",
       "  </tbody>\n",
       "</table>\n",
       "</div>"
      ],
      "text/plain": [
       "     Country Name Country Code  Year  \\\n",
       "1827        India          IND  1993   \n",
       "1828        India          IND  1994   \n",
       "1829        India          IND  1995   \n",
       "1830        India          IND  1996   \n",
       "1831        India          IND  1997   \n",
       "\n",
       "      Access to electricity (% of population))  Population (total)  \n",
       "1827                                 50.900000        9.274039e+08  \n",
       "1828                                 49.811310        9.456018e+08  \n",
       "1829                                 51.408775        9.639226e+08  \n",
       "1830                                 53.003521        9.823652e+08  \n",
       "1831                                 54.594864        1.000900e+09  "
      ]
     },
     "execution_count": 56,
     "metadata": {},
     "output_type": "execute_result"
    }
   ],
   "source": [
    "# Dataframe for India\n",
    "\n",
    "df_india= df_final_1[df_final_1['Country Name'] == 'India']\n",
    "df_india.head()"
   ]
  },
  {
   "cell_type": "code",
   "execution_count": 57,
   "metadata": {
    "colab": {
     "base_uri": "https://localhost:8080/",
     "height": 555
    },
    "id": "ULkYkVAcFSn-",
    "outputId": "0ab63856-f9aa-4f62-d6b6-7a2ad0bd5fdf"
   },
   "outputs": [
    {
     "data": {
      "text/plain": [
       "<AxesSubplot:title={'center':'Line Plot of Accessibility to Electricity in India'}, xlabel='Year'>"
      ]
     },
     "execution_count": 57,
     "metadata": {},
     "output_type": "execute_result"
    },
    {
     "data": {
      "image/png": "[encoded data removed]",
      "text/plain": [
       "<Figure size 1080x720 with 1 Axes>"
      ]
     },
     "metadata": {
      "needs_background": "light"
     },
     "output_type": "display_data"
    }
   ],
   "source": [
    "# Line plot of Percentage Change in Arable Land vs Percentage Change in Forest Area by Year\n",
    "\n",
    "df_india.plot(kind='line', x='Year', y=['Access to electricity (% of population))'], figsize=(15, 10), color=\"brown\", title='Line Plot of Accessibility to Electricity in India')"
   ]
  },
  {
   "cell_type": "code",
   "execution_count": 58,
   "metadata": {
    "colab": {
     "base_uri": "https://localhost:8080/",
     "height": 156
    },
    "id": "0lHN8sW2w8K4",
    "outputId": "a8a6a926-9180-45b9-ca82-a3298417cabb"
   },
   "outputs": [
    {
     "data": {
      "text/html": [
       "<div>\n",
       "<style scoped>\n",
       "    .dataframe tbody tr th:only-of-type {\n",
       "        vertical-align: middle;\n",
       "    }\n",
       "\n",
       "    .dataframe tbody tr th {\n",
       "        vertical-align: top;\n",
       "    }\n",
       "\n",
       "    .dataframe thead th {\n",
       "        text-align: right;\n",
       "    }\n",
       "</style>\n",
       "<table border=\"1\" class=\"dataframe\">\n",
       "  <thead>\n",
       "    <tr style=\"text-align: right;\">\n",
       "      <th></th>\n",
       "      <th>Access to electricity (% of population))</th>\n",
       "      <th>Population (total)</th>\n",
       "    </tr>\n",
       "  </thead>\n",
       "  <tbody>\n",
       "    <tr>\n",
       "      <th>Access to electricity (% of population))</th>\n",
       "      <td>1.000000</td>\n",
       "      <td>0.981487</td>\n",
       "    </tr>\n",
       "    <tr>\n",
       "      <th>Population (total)</th>\n",
       "      <td>0.981487</td>\n",
       "      <td>1.000000</td>\n",
       "    </tr>\n",
       "  </tbody>\n",
       "</table>\n",
       "</div>"
      ],
      "text/plain": [
       "                                          Access to electricity (% of population))  \\\n",
       "Access to electricity (% of population))                                  1.000000   \n",
       "Population (total)                                                        0.981487   \n",
       "\n",
       "                                          Population (total)  \n",
       "Access to electricity (% of population))            0.981487  \n",
       "Population (total)                                  1.000000  "
      ]
     },
     "execution_count": 58,
     "metadata": {},
     "output_type": "execute_result"
    }
   ],
   "source": [
    "df_india.corr()"
   ]
  },
  {
   "cell_type": "markdown",
   "metadata": {
    "id": "BymNeQt2HhjX"
   },
   "source": [
    "From the above chart, we observed that in India, the percentage of population that has access to electricity has continued to increase over the years, except in years 1994, 1998, and 2002 where there were noticeable drops. A closer look at the population indicates that China has been doing incredibly well in meeting the electricity needs of people living in the country.\n",
    "\n",
    "The result of the correlation analysis shows that per unit increase in population (100, 000), there is an increase in the percentage of population that has access to electricity by 98.15%."
   ]
  },
  {
   "cell_type": "code",
   "execution_count": 59,
   "metadata": {
    "colab": {
     "base_uri": "https://localhost:8080/",
     "height": 267
    },
    "id": "4XpHrdlOF97z",
    "outputId": "34c6775e-42e7-4d04-f831-be8058387b9f"
   },
   "outputs": [
    {
     "data": {
      "text/html": [
       "<div>\n",
       "<style scoped>\n",
       "    .dataframe tbody tr th:only-of-type {\n",
       "        vertical-align: middle;\n",
       "    }\n",
       "\n",
       "    .dataframe tbody tr th {\n",
       "        vertical-align: top;\n",
       "    }\n",
       "\n",
       "    .dataframe thead th {\n",
       "        text-align: right;\n",
       "    }\n",
       "</style>\n",
       "<table border=\"1\" class=\"dataframe\">\n",
       "  <thead>\n",
       "    <tr style=\"text-align: right;\">\n",
       "      <th></th>\n",
       "      <th>Country Name</th>\n",
       "      <th>Country Code</th>\n",
       "      <th>Year</th>\n",
       "      <th>Access to electricity (% of population))</th>\n",
       "      <th>Population (total)</th>\n",
       "    </tr>\n",
       "  </thead>\n",
       "  <tbody>\n",
       "    <tr>\n",
       "      <th>1777</th>\n",
       "      <td>Indonesia</td>\n",
       "      <td>IDN</td>\n",
       "      <td>1991</td>\n",
       "      <td>48.900000</td>\n",
       "      <td>184591897.0</td>\n",
       "    </tr>\n",
       "    <tr>\n",
       "      <th>1778</th>\n",
       "      <td>Indonesia</td>\n",
       "      <td>IDN</td>\n",
       "      <td>1992</td>\n",
       "      <td>66.696564</td>\n",
       "      <td>187739786.0</td>\n",
       "    </tr>\n",
       "    <tr>\n",
       "      <th>1779</th>\n",
       "      <td>Indonesia</td>\n",
       "      <td>IDN</td>\n",
       "      <td>1993</td>\n",
       "      <td>55.430000</td>\n",
       "      <td>190851184.0</td>\n",
       "    </tr>\n",
       "    <tr>\n",
       "      <th>1780</th>\n",
       "      <td>Indonesia</td>\n",
       "      <td>IDN</td>\n",
       "      <td>1994</td>\n",
       "      <td>62.800000</td>\n",
       "      <td>193917458.0</td>\n",
       "    </tr>\n",
       "    <tr>\n",
       "      <th>1781</th>\n",
       "      <td>Indonesia</td>\n",
       "      <td>IDN</td>\n",
       "      <td>1995</td>\n",
       "      <td>66.860000</td>\n",
       "      <td>196934257.0</td>\n",
       "    </tr>\n",
       "  </tbody>\n",
       "</table>\n",
       "</div>"
      ],
      "text/plain": [
       "     Country Name Country Code  Year  \\\n",
       "1777    Indonesia          IDN  1991   \n",
       "1778    Indonesia          IDN  1992   \n",
       "1779    Indonesia          IDN  1993   \n",
       "1780    Indonesia          IDN  1994   \n",
       "1781    Indonesia          IDN  1995   \n",
       "\n",
       "      Access to electricity (% of population))  Population (total)  \n",
       "1777                                 48.900000         184591897.0  \n",
       "1778                                 66.696564         187739786.0  \n",
       "1779                                 55.430000         190851184.0  \n",
       "1780                                 62.800000         193917458.0  \n",
       "1781                                 66.860000         196934257.0  "
      ]
     },
     "execution_count": 59,
     "metadata": {},
     "output_type": "execute_result"
    }
   ],
   "source": [
    "# Dataframe for Indonesia\n",
    "\n",
    "df_indonesia = df_final_1[df_final_1['Country Name'] == 'Indonesia']\n",
    "df_indonesia.head()"
   ]
  },
  {
   "cell_type": "code",
   "execution_count": 60,
   "metadata": {
    "colab": {
     "base_uri": "https://localhost:8080/",
     "height": 555
    },
    "id": "UWewQfH3JcIE",
    "outputId": "9a94d443-6700-47c7-d084-b2d974053e6a"
   },
   "outputs": [
    {
     "data": {
      "text/plain": [
       "<AxesSubplot:title={'center':'Line Plot of Accessibility to Electricity in Indonesia'}, xlabel='Year'>"
      ]
     },
     "execution_count": 60,
     "metadata": {},
     "output_type": "execute_result"
    },
    {
     "data": {
      "image/png": "[encoded data removed]",
      "text/plain": [
       "<Figure size 1080x720 with 1 Axes>"
      ]
     },
     "metadata": {
      "needs_background": "light"
     },
     "output_type": "display_data"
    }
   ],
   "source": [
    "# Line plot of Percentage Change in Arable Land vs Percentage Change in Forest Area by Year\n",
    "\n",
    "df_indonesia.plot(kind='line', x='Year', y=['Access to electricity (% of population))'], figsize=(15, 10), title='Line Plot of Accessibility to Electricity in Indonesia')"
   ]
  },
  {
   "cell_type": "code",
   "execution_count": 61,
   "metadata": {
    "colab": {
     "base_uri": "https://localhost:8080/",
     "height": 156
    },
    "id": "Jj-7Cu0-w8K7",
    "outputId": "38e7270b-2703-4f8a-a33a-a62f931b94c7"
   },
   "outputs": [
    {
     "data": {
      "text/html": [
       "<div>\n",
       "<style scoped>\n",
       "    .dataframe tbody tr th:only-of-type {\n",
       "        vertical-align: middle;\n",
       "    }\n",
       "\n",
       "    .dataframe tbody tr th {\n",
       "        vertical-align: top;\n",
       "    }\n",
       "\n",
       "    .dataframe thead th {\n",
       "        text-align: right;\n",
       "    }\n",
       "</style>\n",
       "<table border=\"1\" class=\"dataframe\">\n",
       "  <thead>\n",
       "    <tr style=\"text-align: right;\">\n",
       "      <th></th>\n",
       "      <th>Access to electricity (% of population))</th>\n",
       "      <th>Population (total)</th>\n",
       "    </tr>\n",
       "  </thead>\n",
       "  <tbody>\n",
       "    <tr>\n",
       "      <th>Access to electricity (% of population))</th>\n",
       "      <td>1.000000</td>\n",
       "      <td>0.895064</td>\n",
       "    </tr>\n",
       "    <tr>\n",
       "      <th>Population (total)</th>\n",
       "      <td>0.895064</td>\n",
       "      <td>1.000000</td>\n",
       "    </tr>\n",
       "  </tbody>\n",
       "</table>\n",
       "</div>"
      ],
      "text/plain": [
       "                                          Access to electricity (% of population))  \\\n",
       "Access to electricity (% of population))                                  1.000000   \n",
       "Population (total)                                                        0.895064   \n",
       "\n",
       "                                          Population (total)  \n",
       "Access to electricity (% of population))            0.895064  \n",
       "Population (total)                                  1.000000  "
      ]
     },
     "execution_count": 61,
     "metadata": {},
     "output_type": "execute_result"
    }
   ],
   "source": [
    "df_indonesia.corr()"
   ]
  },
  {
   "cell_type": "markdown",
   "metadata": {
    "id": "-B0mfTgZKLPr"
   },
   "source": [
    "From the above chart, we observed that in Indonesia, the percentage of population that has access to electricity has continued to increase over the years, except in years 1993, 1999, and 2006 where there were noticeable drops. A closer look at the population indicates that China has been doing incredibly well in meeting the electricity needs of people living in the country.\n",
    "\n",
    "The result of the correlation analysis shows that per unit increase in population (100, 000), there is an increase in the percentage of population that has access to electricity by 89.51%."
   ]
  },
  {
   "cell_type": "code",
   "execution_count": 66,
   "metadata": {},
   "outputs": [],
   "source": [
    "from sklearn.preprocessing import StandardScaler\n",
    "from sklearn.cluster import KMeans\n",
    "import pandas as pd\n",
    "import numpy as np\n",
    "from itertools import cycle, islice\n",
    "import matplotlib.pyplot as plt\n",
    "from pandas.plotting import parallel_coordinates\n",
    "%matplotlib inline"
   ]
  },
  {
   "cell_type": "markdown",
   "metadata": {},
   "source": [
    "###### Select Features of Interest for Clustering"
   ]
  },
  {
   "cell_type": "code",
   "execution_count": 86,
   "metadata": {},
   "outputs": [
    {
     "data": {
      "text/html": [
       "<div>\n",
       "<style scoped>\n",
       "    .dataframe tbody tr th:only-of-type {\n",
       "        vertical-align: middle;\n",
       "    }\n",
       "\n",
       "    .dataframe tbody tr th {\n",
       "        vertical-align: top;\n",
       "    }\n",
       "\n",
       "    .dataframe thead th {\n",
       "        text-align: right;\n",
       "    }\n",
       "</style>\n",
       "<table border=\"1\" class=\"dataframe\">\n",
       "  <thead>\n",
       "    <tr style=\"text-align: right;\">\n",
       "      <th></th>\n",
       "      <th>Year</th>\n",
       "      <th>Access to electricity (% of population))</th>\n",
       "      <th>Population (total)</th>\n",
       "    </tr>\n",
       "  </thead>\n",
       "  <tbody>\n",
       "    <tr>\n",
       "      <th>0</th>\n",
       "      <td>1990</td>\n",
       "      <td>95.801673</td>\n",
       "      <td>1.460834e+07</td>\n",
       "    </tr>\n",
       "    <tr>\n",
       "      <th>1</th>\n",
       "      <td>1991</td>\n",
       "      <td>90.644320</td>\n",
       "      <td>1.681708e+07</td>\n",
       "    </tr>\n",
       "    <tr>\n",
       "      <th>2</th>\n",
       "      <td>1992</td>\n",
       "      <td>86.677032</td>\n",
       "      <td>1.732945e+07</td>\n",
       "    </tr>\n",
       "    <tr>\n",
       "      <th>3</th>\n",
       "      <td>1993</td>\n",
       "      <td>84.219742</td>\n",
       "      <td>2.614312e+07</td>\n",
       "    </tr>\n",
       "    <tr>\n",
       "      <th>4</th>\n",
       "      <td>1994</td>\n",
       "      <td>83.123632</td>\n",
       "      <td>2.561210e+07</td>\n",
       "    </tr>\n",
       "    <tr>\n",
       "      <th>5</th>\n",
       "      <td>1995</td>\n",
       "      <td>81.993133</td>\n",
       "      <td>2.473750e+07</td>\n",
       "    </tr>\n",
       "    <tr>\n",
       "      <th>6</th>\n",
       "      <td>1996</td>\n",
       "      <td>79.588668</td>\n",
       "      <td>2.420379e+07</td>\n",
       "    </tr>\n",
       "    <tr>\n",
       "      <th>7</th>\n",
       "      <td>1997</td>\n",
       "      <td>78.277611</td>\n",
       "      <td>2.422283e+07</td>\n",
       "    </tr>\n",
       "    <tr>\n",
       "      <th>8</th>\n",
       "      <td>1998</td>\n",
       "      <td>77.278993</td>\n",
       "      <td>2.464058e+07</td>\n",
       "    </tr>\n",
       "    <tr>\n",
       "      <th>9</th>\n",
       "      <td>1999</td>\n",
       "      <td>77.204670</td>\n",
       "      <td>2.412559e+07</td>\n",
       "    </tr>\n",
       "    <tr>\n",
       "      <th>10</th>\n",
       "      <td>2000</td>\n",
       "      <td>77.022626</td>\n",
       "      <td>3.110206e+07</td>\n",
       "    </tr>\n",
       "    <tr>\n",
       "      <th>11</th>\n",
       "      <td>2001</td>\n",
       "      <td>76.268540</td>\n",
       "      <td>3.078348e+07</td>\n",
       "    </tr>\n",
       "    <tr>\n",
       "      <th>12</th>\n",
       "      <td>2002</td>\n",
       "      <td>76.569601</td>\n",
       "      <td>3.053149e+07</td>\n",
       "    </tr>\n",
       "    <tr>\n",
       "      <th>13</th>\n",
       "      <td>2003</td>\n",
       "      <td>77.164124</td>\n",
       "      <td>3.090579e+07</td>\n",
       "    </tr>\n",
       "    <tr>\n",
       "      <th>14</th>\n",
       "      <td>2004</td>\n",
       "      <td>77.410664</td>\n",
       "      <td>3.097738e+07</td>\n",
       "    </tr>\n",
       "    <tr>\n",
       "      <th>15</th>\n",
       "      <td>2005</td>\n",
       "      <td>77.297416</td>\n",
       "      <td>3.114268e+07</td>\n",
       "    </tr>\n",
       "    <tr>\n",
       "      <th>16</th>\n",
       "      <td>2006</td>\n",
       "      <td>77.986447</td>\n",
       "      <td>3.132856e+07</td>\n",
       "    </tr>\n",
       "    <tr>\n",
       "      <th>17</th>\n",
       "      <td>2007</td>\n",
       "      <td>78.274987</td>\n",
       "      <td>3.127165e+07</td>\n",
       "    </tr>\n",
       "    <tr>\n",
       "      <th>18</th>\n",
       "      <td>2008</td>\n",
       "      <td>78.734953</td>\n",
       "      <td>3.194783e+07</td>\n",
       "    </tr>\n",
       "    <tr>\n",
       "      <th>19</th>\n",
       "      <td>2009</td>\n",
       "      <td>78.716942</td>\n",
       "      <td>3.217703e+07</td>\n",
       "    </tr>\n",
       "    <tr>\n",
       "      <th>20</th>\n",
       "      <td>2010</td>\n",
       "      <td>79.377156</td>\n",
       "      <td>3.277562e+07</td>\n",
       "    </tr>\n",
       "  </tbody>\n",
       "</table>\n",
       "</div>"
      ],
      "text/plain": [
       "    Year  Access to electricity (% of population))  Population (total)\n",
       "0   1990                                 95.801673        1.460834e+07\n",
       "1   1991                                 90.644320        1.681708e+07\n",
       "2   1992                                 86.677032        1.732945e+07\n",
       "3   1993                                 84.219742        2.614312e+07\n",
       "4   1994                                 83.123632        2.561210e+07\n",
       "5   1995                                 81.993133        2.473750e+07\n",
       "6   1996                                 79.588668        2.420379e+07\n",
       "7   1997                                 78.277611        2.422283e+07\n",
       "8   1998                                 77.278993        2.464058e+07\n",
       "9   1999                                 77.204670        2.412559e+07\n",
       "10  2000                                 77.022626        3.110206e+07\n",
       "11  2001                                 76.268540        3.078348e+07\n",
       "12  2002                                 76.569601        3.053149e+07\n",
       "13  2003                                 77.164124        3.090579e+07\n",
       "14  2004                                 77.410664        3.097738e+07\n",
       "15  2005                                 77.297416        3.114268e+07\n",
       "16  2006                                 77.986447        3.132856e+07\n",
       "17  2007                                 78.274987        3.127165e+07\n",
       "18  2008                                 78.734953        3.194783e+07\n",
       "19  2009                                 78.716942        3.217703e+07\n",
       "20  2010                                 79.377156        3.277562e+07"
      ]
     },
     "execution_count": 86,
     "metadata": {},
     "output_type": "execute_result"
    }
   ],
   "source": [
    "df_final_extracted_year"
   ]
  },
  {
   "cell_type": "code",
   "execution_count": 87,
   "metadata": {},
   "outputs": [
    {
     "data": {
      "text/plain": [
       "Index(['Year', 'Access to electricity (% of population))',\n",
       "       'Population (total)'],\n",
       "      dtype='object')"
      ]
     },
     "execution_count": 87,
     "metadata": {},
     "output_type": "execute_result"
    }
   ],
   "source": [
    "df_final_extracted_year.columns"
   ]
  },
  {
   "cell_type": "markdown",
   "metadata": {},
   "source": [
    "###### Scale the Features using StandardScaler"
   ]
  },
  {
   "cell_type": "code",
   "execution_count": 90,
   "metadata": {},
   "outputs": [
    {
     "data": {
      "text/plain": [
       "array([[-1.65144565,  3.08236325, -2.31904026],\n",
       "       [-1.48630108,  2.04626375, -1.90629367],\n",
       "       [-1.32115652,  1.24924535, -1.81054673],\n",
       "       [-1.15601195,  0.75558192, -0.16354211],\n",
       "       [-0.99086739,  0.53537605, -0.26277204],\n",
       "       [-0.82572282,  0.30826164, -0.4262095 ],\n",
       "       [-0.66057826, -0.17478947, -0.5259424 ],\n",
       "       [-0.49543369, -0.43817752, -0.52238461],\n",
       "       [-0.33028913, -0.63879754, -0.44432082],\n",
       "       [-0.16514456, -0.65372889, -0.54055545],\n",
       "       [ 0.        , -0.690301  ,  0.76313336],\n",
       "       [ 0.16514456, -0.84179495,  0.70360039],\n",
       "       [ 0.33028913, -0.78131252,  0.65651079],\n",
       "       [ 0.49543369, -0.66187448,  0.72645719],\n",
       "       [ 0.66057826, -0.61234518,  0.73983397],\n",
       "       [ 0.82572282, -0.6350964 ,  0.77072347],\n",
       "       [ 0.99086739, -0.49667164,  0.80545941],\n",
       "       [ 1.15601195, -0.43870481,  0.79482452],\n",
       "       [ 1.32115652, -0.34629874,  0.92118127],\n",
       "       [ 1.48630108, -0.34991705,  0.96401196],\n",
       "       [ 1.65144565, -0.21728179,  1.07587126]])"
      ]
     },
     "execution_count": 90,
     "metadata": {},
     "output_type": "execute_result"
    }
   ],
   "source": [
    "select_df=df_final_extracted_year.copy()\n",
    "X = StandardScaler().fit_transform(select_df)\n",
    "X"
   ]
  },
  {
   "cell_type": "markdown",
   "metadata": {},
   "source": [
    "###### Use k-Means Clustering"
   ]
  },
  {
   "cell_type": "code",
   "execution_count": 92,
   "metadata": {},
   "outputs": [
    {
     "name": "stdout",
     "output_type": "stream",
     "text": [
      "model\n",
      " KMeans()\n"
     ]
    }
   ],
   "source": [
    "kmeans = KMeans(n_clusters=8)\n",
    "model = kmeans.fit(X)\n",
    "print(\"model\\n\", model)"
   ]
  },
  {
   "cell_type": "markdown",
   "metadata": {},
   "source": [
    "###### What are the centers of 8 clusters we formed"
   ]
  },
  {
   "cell_type": "code",
   "execution_count": 94,
   "metadata": {},
   "outputs": [
    {
     "data": {
      "text/plain": [
       "array([[ 0.24771685, -0.74382073,  0.71242543],\n",
       "       [-1.32115652,  1.24924535, -1.81054673],\n",
       "       [-0.99086739,  0.5330732 , -0.28417455],\n",
       "       [-0.41286141, -0.47637335, -0.50830082],\n",
       "       [ 0.90829511, -0.54570451,  0.77771034],\n",
       "       [-1.65144565,  3.08236325, -2.31904026],\n",
       "       [ 1.48630108, -0.30449919,  0.98702149],\n",
       "       [-1.48630108,  2.04626375, -1.90629367]])"
      ]
     },
     "execution_count": 94,
     "metadata": {},
     "output_type": "execute_result"
    }
   ],
   "source": [
    "centers = model.cluster_centers_\n",
    "centers"
   ]
  },
  {
   "cell_type": "markdown",
   "metadata": {},
   "source": [
    "###### Visualization\n"
   ]
  },
  {
   "cell_type": "markdown",
   "metadata": {},
   "source": [
    "Let us first create some utility functions which will help us in plotting graphs:"
   ]
  },
  {
   "cell_type": "code",
   "execution_count": 96,
   "metadata": {},
   "outputs": [],
   "source": [
    "# Function that creates a DataFrame with a column for Cluster Number\n",
    "\n",
    "def pd_centers(featuresUsed, centers):\n",
    "\tcolNames = list(featuresUsed)\n",
    "\tcolNames.append('prediction')\n",
    "\n",
    "\t# Zip with a column called 'prediction' (index)\n",
    "\tZ = [np.append(A, index) for index, A in enumerate(centers)]\n",
    "\n",
    "\t# Convert to pandas data frame for plotting\n",
    "\tP = pd.DataFrame(Z, columns=colNames)\n",
    "\tP['prediction'] = P['prediction'].astype(int)\n",
    "\treturn P"
   ]
  },
  {
   "cell_type": "code",
   "execution_count": 97,
   "metadata": {},
   "outputs": [],
   "source": [
    "# Function that creates Parallel Plots\n",
    "\n",
    "def parallel_plot(data):\n",
    "\tmy_colors = list(islice(cycle(['b', 'r', 'g', 'y', 'k']), None, len(data)))\n",
    "\tplt.figure(figsize=(15,8)).gca().axes.set_ylim([-3,+3])\n",
    "\tparallel_coordinates(data, 'prediction', color = my_colors, marker='o')"
   ]
  },
  {
   "cell_type": "code",
   "execution_count": 99,
   "metadata": {},
   "outputs": [
    {
     "data": {
      "text/html": [
       "<div>\n",
       "<style scoped>\n",
       "    .dataframe tbody tr th:only-of-type {\n",
       "        vertical-align: middle;\n",
       "    }\n",
       "\n",
       "    .dataframe tbody tr th {\n",
       "        vertical-align: top;\n",
       "    }\n",
       "\n",
       "    .dataframe thead th {\n",
       "        text-align: right;\n",
       "    }\n",
       "</style>\n",
       "<table border=\"1\" class=\"dataframe\">\n",
       "  <thead>\n",
       "    <tr style=\"text-align: right;\">\n",
       "      <th></th>\n",
       "      <th>Year</th>\n",
       "      <th>Access to electricity (% of population))</th>\n",
       "      <th>Population (total)</th>\n",
       "      <th>prediction</th>\n",
       "    </tr>\n",
       "  </thead>\n",
       "  <tbody>\n",
       "    <tr>\n",
       "      <th>0</th>\n",
       "      <td>0.247717</td>\n",
       "      <td>-0.743821</td>\n",
       "      <td>0.712425</td>\n",
       "      <td>0</td>\n",
       "    </tr>\n",
       "    <tr>\n",
       "      <th>1</th>\n",
       "      <td>-1.321157</td>\n",
       "      <td>1.249245</td>\n",
       "      <td>-1.810547</td>\n",
       "      <td>1</td>\n",
       "    </tr>\n",
       "    <tr>\n",
       "      <th>2</th>\n",
       "      <td>-0.990867</td>\n",
       "      <td>0.533073</td>\n",
       "      <td>-0.284175</td>\n",
       "      <td>2</td>\n",
       "    </tr>\n",
       "    <tr>\n",
       "      <th>3</th>\n",
       "      <td>-0.412861</td>\n",
       "      <td>-0.476373</td>\n",
       "      <td>-0.508301</td>\n",
       "      <td>3</td>\n",
       "    </tr>\n",
       "    <tr>\n",
       "      <th>4</th>\n",
       "      <td>0.908295</td>\n",
       "      <td>-0.545705</td>\n",
       "      <td>0.777710</td>\n",
       "      <td>4</td>\n",
       "    </tr>\n",
       "    <tr>\n",
       "      <th>5</th>\n",
       "      <td>-1.651446</td>\n",
       "      <td>3.082363</td>\n",
       "      <td>-2.319040</td>\n",
       "      <td>5</td>\n",
       "    </tr>\n",
       "    <tr>\n",
       "      <th>6</th>\n",
       "      <td>1.486301</td>\n",
       "      <td>-0.304499</td>\n",
       "      <td>0.987021</td>\n",
       "      <td>6</td>\n",
       "    </tr>\n",
       "    <tr>\n",
       "      <th>7</th>\n",
       "      <td>-1.486301</td>\n",
       "      <td>2.046264</td>\n",
       "      <td>-1.906294</td>\n",
       "      <td>7</td>\n",
       "    </tr>\n",
       "  </tbody>\n",
       "</table>\n",
       "</div>"
      ],
      "text/plain": [
       "       Year  Access to electricity (% of population))  Population (total)  \\\n",
       "0  0.247717                                 -0.743821            0.712425   \n",
       "1 -1.321157                                  1.249245           -1.810547   \n",
       "2 -0.990867                                  0.533073           -0.284175   \n",
       "3 -0.412861                                 -0.476373           -0.508301   \n",
       "4  0.908295                                 -0.545705            0.777710   \n",
       "5 -1.651446                                  3.082363           -2.319040   \n",
       "6  1.486301                                 -0.304499            0.987021   \n",
       "7 -1.486301                                  2.046264           -1.906294   \n",
       "\n",
       "   prediction  \n",
       "0           0  \n",
       "1           1  \n",
       "2           2  \n",
       "3           3  \n",
       "4           4  \n",
       "5           5  \n",
       "6           6  \n",
       "7           7  "
      ]
     },
     "execution_count": 99,
     "metadata": {},
     "output_type": "execute_result"
    }
   ],
   "source": [
    "P = pd_centers(select_df, centers)\n",
    "P"
   ]
  },
  {
   "cell_type": "code",
   "execution_count": 101,
   "metadata": {},
   "outputs": [
    {
     "data": {
      "image/png": "[encoded data removed]",
      "text/plain": [
       "<Figure size 1080x576 with 1 Axes>"
      ]
     },
     "metadata": {
      "needs_background": "light"
     },
     "output_type": "display_data"
    }
   ],
   "source": [
    "parallel_plot(P[P[\"Population (total)\"] < -0.5])"
   ]
  },
  {
   "cell_type": "code",
   "execution_count": 105,
   "metadata": {},
   "outputs": [
    {
     "data": {
      "image/png": "[encoded data removed]",
      "text/plain": [
       "<Figure size 1080x576 with 1 Axes>"
      ]
     },
     "metadata": {
      "needs_background": "light"
     },
     "output_type": "display_data"
    }
   ],
   "source": [
    "parallel_plot(P[P[\"Access to electricity (% of population))\"] > 0.5])"
   ]
  },
  {
   "cell_type": "code",
   "execution_count": 106,
   "metadata": {},
   "outputs": [
    {
     "data": {
      "image/png": "[encoded data removed]",
      "text/plain": [
       "<Figure size 1080x576 with 1 Axes>"
      ]
     },
     "metadata": {
      "needs_background": "light"
     },
     "output_type": "display_data"
    }
   ],
   "source": [
    "parallel_plot(P[(P[\"Population (total)\"] > 0.5) & (P[\"Access to electricity (% of population))\"] < 0.5)])"
   ]
  },
  {
   "cell_type": "code",
   "execution_count": null,
   "metadata": {},
   "outputs": [],
   "source": []
  }
 ],
 "metadata": {
  "colab": {
   "collapsed_sections": [],
   "name": "Climate Change Assignment - Pandas (1).ipynb",
   "provenance": []
  },
  "kernelspec": {
   "display_name": "Python 3 (ipykernel)",
   "language": "python",
   "name": "python3"
  },
  "language_info": {
   "codemirror_mode": {
    "name": "ipython",
    "version": 3
   },
   "file_extension": ".py",
   "mimetype": "text/x-python",
   "name": "python",
   "nbconvert_exporter": "python",
   "pygments_lexer": "ipython3",
   "version": "3.9.7"
  }
 },
 "nbformat": 4,
 "nbformat_minor": 1
}
